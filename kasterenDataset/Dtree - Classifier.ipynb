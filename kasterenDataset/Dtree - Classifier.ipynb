{
 "cells": [
  {
   "cell_type": "code",
   "execution_count": 2,
   "metadata": {},
   "outputs": [],
   "source": [
    "import pandas as pd\n",
    "from sklearn import tree\n",
    "import pydotplus\n",
    "from sklearn.tree import DecisionTreeClassifier, export_text, _tree\n",
    "from sklearn.metrics import classification_report\n",
    "\n",
    "import seaborn as sns\n",
    "from imblearn.over_sampling import SMOTE\n",
    "\n",
    "from sklearn.model_selection import train_test_split\n",
    "import matplotlib.pyplot as plt\n",
    "import matplotlib.image as pltimg\n",
    "import numpy as np\n",
    "from sklearn import metrics\n",
    "from joblib import dump, load"
   ]
  },
  {
   "cell_type": "code",
   "execution_count": 3,
   "metadata": {},
   "outputs": [],
   "source": [
    "# Import the two datasets \n",
    "\n",
    "df = pd.read_csv(\"log_labeled_trans.csv\", header = 0).fillna(0)\n",
    "df.columns = df.columns.str.replace(' ', '_')\n",
    "df['Label']=df['Label'].str.replace(' ', '_')"
   ]
  },
  {
   "cell_type": "code",
   "execution_count": 4,
   "metadata": {},
   "outputs": [
    {
     "name": "stdout",
     "output_type": "stream",
     "text": [
      "['Start_time', 'End_time', 'Hall-Bathroom_door', 'ToiletFlush', 'Plates_cupboard', 'Fridge', 'Microwave', 'Groceries_Cupboard', 'Hall-Toilet_door', 'Frontdoor', 'Hall-Bedroom_door', 'Pans_Cupboard', 'Freezer', 'Cups_cupboard', 'Dishwasher', 'Washingmachine', 'Label', 'Label_ID']\n"
     ]
    }
   ],
   "source": [
    "data_top = df.columns\n",
    "columns = list(data_top) \n",
    "print(columns)"
   ]
  },
  {
   "cell_type": "code",
   "execution_count": 5,
   "metadata": {},
   "outputs": [
    {
     "data": {
      "text/plain": [
       "['Hall-Bathroom_door',\n",
       " 'ToiletFlush',\n",
       " 'Plates_cupboard',\n",
       " 'Fridge',\n",
       " 'Microwave',\n",
       " 'Groceries_Cupboard',\n",
       " 'Hall-Toilet_door',\n",
       " 'Frontdoor',\n",
       " 'Hall-Bedroom_door',\n",
       " 'Pans_Cupboard',\n",
       " 'Freezer',\n",
       " 'Cups_cupboard',\n",
       " 'Dishwasher',\n",
       " 'Washingmachine']"
      ]
     },
     "execution_count": 5,
     "metadata": {},
     "output_type": "execute_result"
    }
   ],
   "source": [
    "features = columns\n",
    "features.remove(\"Label\")\n",
    "features.remove(\"Label_ID\")\n",
    "features.remove(\"Start_time\")\n",
    "features.remove(\"End_time\")\n",
    "features"
   ]
  },
  {
   "cell_type": "code",
   "execution_count": 6,
   "metadata": {},
   "outputs": [],
   "source": [
    "X = df[features]\n",
    "# y = df.Label_ID\n",
    "y = df.Label"
   ]
  },
  {
   "cell_type": "code",
   "execution_count": 7,
   "metadata": {},
   "outputs": [
    {
     "name": "stdout",
     "output_type": "stream",
     "text": [
      "Accuracy: 0.8992248062015504\n"
     ]
    }
   ],
   "source": [
    "X_train, X_test, y_train, y_test = train_test_split(X.values, y, test_size=0.3, random_state=1) # 70% training and 30% test\n",
    "# Create Decision Tree classifer object\n",
    "clf = DecisionTreeClassifier()\n",
    "\n",
    "# Train Decision Tree Classifer\n",
    "clf = clf.fit(X_train,y_train)\n",
    "\n",
    "#Predict the response for test dataset\n",
    "y_pred = clf.predict(X_test)\n",
    "# Model Accuracy, how often is the classifier correct?\n",
    "print(\"Accuracy:\",metrics.accuracy_score(y_test, y_pred))\n",
    "\n"
   ]
  },
  {
   "cell_type": "code",
   "execution_count": 8,
   "metadata": {},
   "outputs": [
    {
     "name": "stdout",
     "output_type": "stream",
     "text": [
      "                   precision    recall  f1-score   support\n",
      "\n",
      "        get_drink       0.00      0.00      0.00         2\n",
      "        go_to_bed       0.40      0.40      0.40         5\n",
      "      leave_house       1.00      1.00      1.00        20\n",
      "prepare_Breakfast       1.00      0.82      0.90        33\n",
      "       use_toilet       0.91      0.97      0.94        69\n",
      "\n",
      "         accuracy                           0.90       129\n",
      "        macro avg       0.66      0.64      0.65       129\n",
      "     weighted avg       0.91      0.90      0.90       129\n",
      "\n"
     ]
    }
   ],
   "source": [
    "print(classification_report(y_test, y_pred))"
   ]
  },
  {
   "cell_type": "code",
   "execution_count": 9,
   "metadata": {},
   "outputs": [
    {
     "name": "stdout",
     "output_type": "stream",
     "text": [
      "Trying to predict the take shower activity, with ID 5, \n",
      "with the following combination 1,0,0,0,0,0,0,3,0,0,0,0,0,0\n",
      "Value predicted: ['leave_house']\n",
      "Wrong predicition\n"
     ]
    }
   ],
   "source": [
    "print(\"Trying to predict the take shower activity, with ID 5, \\nwith the following combination 1,0,0,0,0,0,0,3,0,0,0,0,0,0\")\n",
    "pred = clf.predict([[1,0,0,0,0,0,0,3,0,0,0,0,0,0]])\n",
    "print(\"Value predicted:\", pred)\n",
    "if(pred == 5): print(\"Correct prediction\") \n",
    "else: print(\"Wrong predicition\")"
   ]
  },
  {
   "cell_type": "code",
   "execution_count": 10,
   "metadata": {},
   "outputs": [
    {
     "data": {
      "text/plain": [
       "<AxesSubplot: xlabel='index', ylabel='Label'>"
      ]
     },
     "execution_count": 10,
     "metadata": {},
     "output_type": "execute_result"
    },
    {
     "data": {
      "image/png": "[encoded data removed]",
      "text/plain": [
       "<Figure size 640x480 with 1 Axes>"
      ]
     },
     "metadata": {},
     "output_type": "display_data"
    }
   ],
   "source": [
    "xx = df[[\"Label\"][0]].value_counts().reset_index()\n",
    "sns.barplot(x=\"index\", y=\"Label\", data= xx, palette=\"cividis\")"
   ]
  },
  {
   "cell_type": "code",
   "execution_count": 11,
   "metadata": {},
   "outputs": [
    {
     "name": "stdout",
     "output_type": "stream",
     "text": [
      "               index  Label\n",
      "0         use_toilet    210\n",
      "1  prepare_Breakfast    210\n",
      "2        leave_house    210\n",
      "3          go_to_bed    210\n",
      "4          get_drink    210\n"
     ]
    },
    {
     "data": {
      "text/plain": [
       "<AxesSubplot: xlabel='index', ylabel='Label'>"
      ]
     },
     "execution_count": 11,
     "metadata": {},
     "output_type": "execute_result"
    },
    {
     "data": {
      "image/png": "[encoded data removed]",
      "text/plain": [
       "<Figure size 640x480 with 1 Axes>"
      ]
     },
     "metadata": {},
     "output_type": "display_data"
    }
   ],
   "source": [
    "X = df[features]\n",
    "y = df.Label\n",
    "\n",
    "oversample = SMOTE()\n",
    "X, y = oversample.fit_resample(X, y)\n",
    "\n",
    "df = pd.concat([pd.DataFrame(X), pd.DataFrame(y)], axis=1)\n",
    "df.columns = features + [\"Label\"]\n",
    "xx = df[[\"Label\"][0]].value_counts().reset_index()\n",
    "print(xx)\n",
    "sns.barplot(x=\"index\", y=\"Label\", data= xx, palette=\"cividis\")"
   ]
  },
  {
   "cell_type": "code",
   "execution_count": 12,
   "metadata": {},
   "outputs": [
    {
     "name": "stdout",
     "output_type": "stream",
     "text": [
      "Accuracy: 0.9523809523809523\n"
     ]
    }
   ],
   "source": [
    "X_train, X_test, y_train, y_test = train_test_split(X.values, y, test_size=0.3, random_state=1) # 70% training and 30% test\n",
    "# Create Decision Tree classifer object\n",
    "clf = DecisionTreeClassifier()\n",
    "\n",
    "# Train Decision Tree Classifer\n",
    "clf = clf.fit(X_train,y_train)\n",
    "\n",
    "dump(clf, 'test.joblib') \n",
    "\n",
    "data = tree.export_graphviz(clf, out_file=None, feature_names=features, class_names = clf.classes_, filled=True)\n",
    "graph = pydotplus.graph_from_dot_data(data)\n",
    "graph.write_png('mydecisiontree_classifier_test.png')\n",
    "\n",
    "#Predict the response for test dataset\n",
    "y_pred = clf.predict(X_test)\n",
    "# Model Accuracy, how often is the classifier correct?\n",
    "print(\"Accuracy:\",metrics.accuracy_score(y_test, y_pred))"
   ]
  }
 ],
 "metadata": {
  "kernelspec": {
   "display_name": "Python 3.10.7 64-bit",
   "language": "python",
   "name": "python3"
  },
  "language_info": {
   "codemirror_mode": {
    "name": "ipython",
    "version": 3
   },
   "file_extension": ".py",
   "mimetype": "text/x-python",
   "name": "python",
   "nbconvert_exporter": "python",
   "pygments_lexer": "ipython3",
   "version": "3.10.7"
  },
  "orig_nbformat": 4,
  "vscode": {
   "interpreter": {
    "hash": "26de051ba29f2982a8de78e945f0abaf191376122a1563185a90213a26c5da77"
   }
  }
 },
 "nbformat": 4,
 "nbformat_minor": 2
}
