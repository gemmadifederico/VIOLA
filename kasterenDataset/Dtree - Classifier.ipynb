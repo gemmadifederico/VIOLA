{
 "cells": [
  {
   "cell_type": "code",
   "execution_count": 1,
   "metadata": {},
   "outputs": [],
   "source": [
    "import pandas as pd\n",
    "from sklearn import tree\n",
    "import pydotplus\n",
    "from sklearn.tree import DecisionTreeClassifier, export_text, _tree\n",
    "from sklearn.metrics import classification_report\n",
    "\n",
    "\n",
    "from sklearn.model_selection import train_test_split\n",
    "import matplotlib.pyplot as plt\n",
    "import matplotlib.image as pltimg\n",
    "import numpy as np\n",
    "from sklearn import metrics\n",
    "from joblib import dump, load"
   ]
  },
  {
   "cell_type": "code",
   "execution_count": 2,
   "metadata": {},
   "outputs": [],
   "source": [
    "# Import the two datasets \n",
    "\n",
    "df = pd.read_csv(\"log_labeled_trans.csv\", header = 0).fillna(0)\n",
    "df.columns = df.columns.str.replace(' ', '_')\n",
    "df['Label']=df['Label'].str.replace(' ', '_')"
   ]
  },
  {
   "cell_type": "code",
   "execution_count": 3,
   "metadata": {},
   "outputs": [
    {
     "name": "stdout",
     "output_type": "stream",
     "text": [
      "['Start_time', 'End_time', 'Hall-Bathroom_door', 'ToiletFlush', 'Plates_cupboard', 'Fridge', 'Microwave', 'Groceries_Cupboard', 'Hall-Toilet_door', 'Frontdoor', 'Hall-Bedroom_door', 'Pans_Cupboard', 'Freezer', 'Cups_cupboard', 'Dishwasher', 'Washingmachine', 'Label', 'Label_ID']\n"
     ]
    }
   ],
   "source": [
    "data_top = df.columns\n",
    "columns = list(data_top) \n",
    "print(columns)"
   ]
  },
  {
   "cell_type": "code",
   "execution_count": 4,
   "metadata": {},
   "outputs": [
    {
     "data": {
      "text/plain": [
       "['Hall-Bathroom_door',\n",
       " 'ToiletFlush',\n",
       " 'Plates_cupboard',\n",
       " 'Fridge',\n",
       " 'Microwave',\n",
       " 'Groceries_Cupboard',\n",
       " 'Hall-Toilet_door',\n",
       " 'Frontdoor',\n",
       " 'Hall-Bedroom_door',\n",
       " 'Pans_Cupboard',\n",
       " 'Freezer',\n",
       " 'Cups_cupboard',\n",
       " 'Dishwasher',\n",
       " 'Washingmachine']"
      ]
     },
     "execution_count": 4,
     "metadata": {},
     "output_type": "execute_result"
    }
   ],
   "source": [
    "features = columns\n",
    "features.remove(\"Label\")\n",
    "features.remove(\"Label_ID\")\n",
    "features.remove(\"Start_time\")\n",
    "features.remove(\"End_time\")\n",
    "features"
   ]
  },
  {
   "cell_type": "code",
   "execution_count": 5,
   "metadata": {},
   "outputs": [],
   "source": [
    "X = df[features]\n",
    "# y = df.Label_ID\n",
    "y = df.Label"
   ]
  },
  {
   "cell_type": "code",
   "execution_count": 6,
   "metadata": {},
   "outputs": [],
   "source": [
    "def create_rules_recursive(clf,features,node,expression,rules):\n",
    "    # intermediate node\n",
    "    if clf.tree_.feature[node] != _tree.TREE_UNDEFINED:\n",
    "        name = features[clf.tree_.feature[node]]\n",
    "        threshold = clf.tree_.threshold[node]\n",
    "        if expression != '':\n",
    "            expression = expression + ' AND '\n",
    "        create_rules_recursive(clf,features,clf.tree_.children_left[node],expression + str(name) + '<=' + str(threshold),rules)\n",
    "        create_rules_recursive(clf,features,clf.tree_.children_right[node],expression + str(name) + '>' + str(threshold),rules)\n",
    "    # leaf node\n",
    "    else:\n",
    "        key = clf.classes_[np.argmax(clf.tree_.value[node])]\n",
    "        if (key not in rules):\n",
    "            rules[key] = '(' + expression + ')'\n",
    "        else:\n",
    "            rules[key] = rules[key] + ' OR (' + expression + ')'"
   ]
  },
  {
   "cell_type": "code",
   "execution_count": 7,
   "metadata": {},
   "outputs": [],
   "source": [
    "def print_decision_rules(rf,features):\n",
    "\n",
    "    tree = rf.tree_\n",
    "    assert tree.value.shape[1] == 1 # no support for multi-output\n",
    "    \n",
    "    iterator = enumerate(zip(tree.children_left, tree.children_right, tree.feature, tree.threshold, tree.value))\n",
    "    for node_idx, data in iterator:\n",
    "        left, right, feature, th, value = data\n",
    "\n",
    "        # left: index of left child (if any)\n",
    "        # right: index of right child (if any)\n",
    "        # feature: index of the feature to check\n",
    "        # th: the threshold to compare against\n",
    "        # value: values associated with classes            \n",
    "\n",
    "        # for classifier, value is 0 except the index of the class to return\n",
    "        class_idx = np.argmax(value[0])\n",
    "\n",
    "        if left == -1 and right == -1:\n",
    "            print('{} LEAF: return class={}'.format(node_idx, class_idx))\n",
    "        else:\n",
    "            print('{} NODE: if {} < {} then next={} else next={}'.format(node_idx, features[feature], th, left, right))    \n",
    "            print('{} NODE: if {} < {} then next={} else next={}'.format(node_idx, feature, th, left, right))    \n",
    "            \n",
    "\n"
   ]
  },
  {
   "cell_type": "code",
   "execution_count": 8,
   "metadata": {},
   "outputs": [
    {
     "name": "stdout",
     "output_type": "stream",
     "text": [
      "['get_drink' 'go_to_bed' 'leave_house' 'prepare_Breakfast' 'use_toilet']\n",
      "{'use_toilet': '(Plates_cupboard<=0.5 AND Frontdoor<=0.5 AND Fridge<=0.5 AND Pans_Cupboard<=0.5 AND Hall-Bedroom_door<=0.5 AND Cups_cupboard<=0.5 AND Hall-Bathroom_door<=1.5 AND Hall-Toilet_door<=1.5 AND ToiletFlush<=2.5 AND ToiletFlush<=1.5 AND Hall-Bathroom_door<=0.5 AND Hall-Toilet_door<=0.5) OR (Plates_cupboard<=0.5 AND Frontdoor<=0.5 AND Fridge<=0.5 AND Pans_Cupboard<=0.5 AND Hall-Bedroom_door<=0.5 AND Cups_cupboard<=0.5 AND Hall-Bathroom_door<=1.5 AND Hall-Toilet_door<=1.5 AND ToiletFlush<=2.5 AND ToiletFlush<=1.5 AND Hall-Bathroom_door<=0.5 AND Hall-Toilet_door>0.5 AND ToiletFlush<=0.5) OR (Plates_cupboard<=0.5 AND Frontdoor<=0.5 AND Fridge<=0.5 AND Pans_Cupboard<=0.5 AND Hall-Bedroom_door<=0.5 AND Cups_cupboard<=0.5 AND Hall-Bathroom_door<=1.5 AND Hall-Toilet_door<=1.5 AND ToiletFlush<=2.5 AND ToiletFlush<=1.5 AND Hall-Bathroom_door<=0.5 AND Hall-Toilet_door>0.5 AND ToiletFlush>0.5) OR (Plates_cupboard<=0.5 AND Frontdoor<=0.5 AND Fridge<=0.5 AND Pans_Cupboard<=0.5 AND Hall-Bedroom_door<=0.5 AND Cups_cupboard<=0.5 AND Hall-Bathroom_door<=1.5 AND Hall-Toilet_door<=1.5 AND ToiletFlush<=2.5 AND ToiletFlush<=1.5 AND Hall-Bathroom_door>0.5 AND ToiletFlush<=0.5 AND Hall-Toilet_door<=0.5) OR (Plates_cupboard<=0.5 AND Frontdoor<=0.5 AND Fridge<=0.5 AND Pans_Cupboard<=0.5 AND Hall-Bedroom_door<=0.5 AND Cups_cupboard<=0.5 AND Hall-Bathroom_door<=1.5 AND Hall-Toilet_door<=1.5 AND ToiletFlush<=2.5 AND ToiletFlush<=1.5 AND Hall-Bathroom_door>0.5 AND ToiletFlush<=0.5 AND Hall-Toilet_door>0.5) OR (Plates_cupboard<=0.5 AND Frontdoor<=0.5 AND Fridge<=0.5 AND Pans_Cupboard<=0.5 AND Hall-Bedroom_door<=0.5 AND Cups_cupboard<=0.5 AND Hall-Bathroom_door<=1.5 AND Hall-Toilet_door<=1.5 AND ToiletFlush<=2.5 AND ToiletFlush<=1.5 AND Hall-Bathroom_door>0.5 AND ToiletFlush>0.5) OR (Plates_cupboard<=0.5 AND Frontdoor<=0.5 AND Fridge<=0.5 AND Pans_Cupboard<=0.5 AND Hall-Bedroom_door<=0.5 AND Cups_cupboard<=0.5 AND Hall-Bathroom_door<=1.5 AND Hall-Toilet_door<=1.5 AND ToiletFlush<=2.5 AND ToiletFlush>1.5 AND Hall-Toilet_door<=0.5 AND Hall-Bathroom_door<=0.5) OR (Plates_cupboard<=0.5 AND Frontdoor<=0.5 AND Fridge<=0.5 AND Pans_Cupboard<=0.5 AND Hall-Bedroom_door<=0.5 AND Cups_cupboard<=0.5 AND Hall-Bathroom_door<=1.5 AND Hall-Toilet_door<=1.5 AND ToiletFlush<=2.5 AND ToiletFlush>1.5 AND Hall-Toilet_door<=0.5 AND Hall-Bathroom_door>0.5) OR (Plates_cupboard<=0.5 AND Frontdoor<=0.5 AND Fridge<=0.5 AND Pans_Cupboard<=0.5 AND Hall-Bedroom_door<=0.5 AND Cups_cupboard<=0.5 AND Hall-Bathroom_door<=1.5 AND Hall-Toilet_door<=1.5 AND ToiletFlush>2.5) OR (Plates_cupboard<=0.5 AND Frontdoor<=0.5 AND Fridge<=0.5 AND Pans_Cupboard<=0.5 AND Hall-Bedroom_door<=0.5 AND Cups_cupboard<=0.5 AND Hall-Bathroom_door<=1.5 AND Hall-Toilet_door>1.5) OR (Plates_cupboard<=0.5 AND Frontdoor<=0.5 AND Fridge<=0.5 AND Pans_Cupboard<=0.5 AND Hall-Bedroom_door<=0.5 AND Cups_cupboard<=0.5 AND Hall-Bathroom_door>1.5) OR (Plates_cupboard<=0.5 AND Frontdoor<=0.5 AND Fridge<=0.5 AND Pans_Cupboard<=0.5 AND Hall-Bedroom_door>0.5 AND Hall-Bathroom_door<=0.5 AND Hall-Bedroom_door<=1.5) OR (Plates_cupboard<=0.5 AND Frontdoor<=0.5 AND Fridge<=0.5 AND Pans_Cupboard<=0.5 AND Hall-Bedroom_door>0.5 AND Hall-Bathroom_door>0.5 AND ToiletFlush<=0.5 AND Hall-Bedroom_door<=1.5 AND Hall-Bathroom_door<=1.5) OR (Plates_cupboard<=0.5 AND Frontdoor<=0.5 AND Fridge<=0.5 AND Pans_Cupboard<=0.5 AND Hall-Bedroom_door>0.5 AND Hall-Bathroom_door>0.5 AND ToiletFlush<=0.5 AND Hall-Bedroom_door<=1.5 AND Hall-Bathroom_door>1.5) OR (Plates_cupboard<=0.5 AND Frontdoor<=0.5 AND Fridge<=0.5 AND Pans_Cupboard<=0.5 AND Hall-Bedroom_door>0.5 AND Hall-Bathroom_door>0.5 AND ToiletFlush<=0.5 AND Hall-Bedroom_door>1.5) OR (Plates_cupboard<=0.5 AND Frontdoor<=0.5 AND Fridge<=0.5 AND Pans_Cupboard<=0.5 AND Hall-Bedroom_door>0.5 AND Hall-Bathroom_door>0.5 AND ToiletFlush>0.5)', 'prepare_Breakfast': '(Plates_cupboard<=0.5 AND Frontdoor<=0.5 AND Fridge<=0.5 AND Pans_Cupboard<=0.5 AND Hall-Bedroom_door<=0.5 AND Cups_cupboard<=0.5 AND Hall-Bathroom_door<=1.5 AND Hall-Toilet_door<=1.5 AND ToiletFlush<=2.5 AND ToiletFlush>1.5 AND Hall-Toilet_door>0.5) OR (Plates_cupboard<=0.5 AND Frontdoor<=0.5 AND Fridge>0.5 AND Cups_cupboard<=0.5 AND Fridge<=1.5 AND Groceries_Cupboard<=0.5 AND Pans_Cupboard>0.5) OR (Plates_cupboard<=0.5 AND Frontdoor<=0.5 AND Fridge>0.5 AND Cups_cupboard<=0.5 AND Fridge<=1.5 AND Groceries_Cupboard>0.5) OR (Plates_cupboard<=0.5 AND Frontdoor<=0.5 AND Fridge>0.5 AND Cups_cupboard<=0.5 AND Fridge>1.5) OR (Plates_cupboard<=0.5 AND Frontdoor<=0.5 AND Fridge>0.5 AND Cups_cupboard>0.5 AND Freezer>1.0) OR (Plates_cupboard>0.5 AND Hall-Bathroom_door<=2.0)', 'get_drink': '(Plates_cupboard<=0.5 AND Frontdoor<=0.5 AND Fridge<=0.5 AND Pans_Cupboard<=0.5 AND Hall-Bedroom_door<=0.5 AND Cups_cupboard>0.5) OR (Plates_cupboard<=0.5 AND Frontdoor<=0.5 AND Fridge>0.5 AND Cups_cupboard<=0.5 AND Fridge<=1.5 AND Groceries_Cupboard<=0.5 AND Pans_Cupboard<=0.5) OR (Plates_cupboard<=0.5 AND Frontdoor<=0.5 AND Fridge>0.5 AND Cups_cupboard>0.5 AND Freezer<=1.0)', 'go_to_bed': '(Plates_cupboard<=0.5 AND Frontdoor<=0.5 AND Fridge<=0.5 AND Pans_Cupboard<=0.5 AND Hall-Bedroom_door>0.5 AND Hall-Bathroom_door<=0.5 AND Hall-Bedroom_door>1.5) OR (Plates_cupboard<=0.5 AND Frontdoor<=0.5 AND Fridge<=0.5 AND Pans_Cupboard>0.5 AND Dishwasher<=0.5) OR (Plates_cupboard<=0.5 AND Frontdoor<=0.5 AND Fridge<=0.5 AND Pans_Cupboard>0.5 AND Dishwasher>0.5)', 'leave_house': '(Plates_cupboard<=0.5 AND Frontdoor>0.5) OR (Plates_cupboard>0.5 AND Hall-Bathroom_door>2.0)'}\n",
      "|--- feature_2 <= 0.50\n",
      "|   |--- feature_7 <= 0.50\n",
      "|   |   |--- feature_3 <= 0.50\n",
      "|   |   |   |--- feature_9 <= 0.50\n",
      "|   |   |   |   |--- feature_8 <= 0.50\n",
      "|   |   |   |   |   |--- feature_11 <= 0.50\n",
      "|   |   |   |   |   |   |--- feature_0 <= 1.50\n",
      "|   |   |   |   |   |   |   |--- feature_6 <= 1.50\n",
      "|   |   |   |   |   |   |   |   |--- feature_1 <= 2.50\n",
      "|   |   |   |   |   |   |   |   |   |--- feature_1 <= 1.50\n",
      "|   |   |   |   |   |   |   |   |   |   |--- feature_0 <= 0.50\n",
      "|   |   |   |   |   |   |   |   |   |   |   |--- truncated branch of depth 3\n",
      "|   |   |   |   |   |   |   |   |   |   |--- feature_0 >  0.50\n",
      "|   |   |   |   |   |   |   |   |   |   |   |--- truncated branch of depth 3\n",
      "|   |   |   |   |   |   |   |   |   |--- feature_1 >  1.50\n",
      "|   |   |   |   |   |   |   |   |   |   |--- feature_6 <= 0.50\n",
      "|   |   |   |   |   |   |   |   |   |   |   |--- truncated branch of depth 2\n",
      "|   |   |   |   |   |   |   |   |   |   |--- feature_6 >  0.50\n",
      "|   |   |   |   |   |   |   |   |   |   |   |--- class: prepare_Breakfast\n",
      "|   |   |   |   |   |   |   |   |--- feature_1 >  2.50\n",
      "|   |   |   |   |   |   |   |   |   |--- class: use_toilet\n",
      "|   |   |   |   |   |   |   |--- feature_6 >  1.50\n",
      "|   |   |   |   |   |   |   |   |--- class: use_toilet\n",
      "|   |   |   |   |   |   |--- feature_0 >  1.50\n",
      "|   |   |   |   |   |   |   |--- class: use_toilet\n",
      "|   |   |   |   |   |--- feature_11 >  0.50\n",
      "|   |   |   |   |   |   |--- class: get_drink\n",
      "|   |   |   |   |--- feature_8 >  0.50\n",
      "|   |   |   |   |   |--- feature_0 <= 0.50\n",
      "|   |   |   |   |   |   |--- feature_8 <= 1.50\n",
      "|   |   |   |   |   |   |   |--- class: use_toilet\n",
      "|   |   |   |   |   |   |--- feature_8 >  1.50\n",
      "|   |   |   |   |   |   |   |--- class: go_to_bed\n",
      "|   |   |   |   |   |--- feature_0 >  0.50\n",
      "|   |   |   |   |   |   |--- feature_1 <= 0.50\n",
      "|   |   |   |   |   |   |   |--- feature_8 <= 1.50\n",
      "|   |   |   |   |   |   |   |   |--- feature_0 <= 1.50\n",
      "|   |   |   |   |   |   |   |   |   |--- class: use_toilet\n",
      "|   |   |   |   |   |   |   |   |--- feature_0 >  1.50\n",
      "|   |   |   |   |   |   |   |   |   |--- class: use_toilet\n",
      "|   |   |   |   |   |   |   |--- feature_8 >  1.50\n",
      "|   |   |   |   |   |   |   |   |--- class: use_toilet\n",
      "|   |   |   |   |   |   |--- feature_1 >  0.50\n",
      "|   |   |   |   |   |   |   |--- class: use_toilet\n",
      "|   |   |   |--- feature_9 >  0.50\n",
      "|   |   |   |   |--- feature_12 <= 0.50\n",
      "|   |   |   |   |   |--- class: go_to_bed\n",
      "|   |   |   |   |--- feature_12 >  0.50\n",
      "|   |   |   |   |   |--- class: go_to_bed\n",
      "|   |   |--- feature_3 >  0.50\n",
      "|   |   |   |--- feature_11 <= 0.50\n",
      "|   |   |   |   |--- feature_3 <= 1.50\n",
      "|   |   |   |   |   |--- feature_5 <= 0.50\n",
      "|   |   |   |   |   |   |--- feature_9 <= 0.50\n",
      "|   |   |   |   |   |   |   |--- class: get_drink\n",
      "|   |   |   |   |   |   |--- feature_9 >  0.50\n",
      "|   |   |   |   |   |   |   |--- class: prepare_Breakfast\n",
      "|   |   |   |   |   |--- feature_5 >  0.50\n",
      "|   |   |   |   |   |   |--- class: prepare_Breakfast\n",
      "|   |   |   |   |--- feature_3 >  1.50\n",
      "|   |   |   |   |   |--- class: prepare_Breakfast\n",
      "|   |   |   |--- feature_11 >  0.50\n",
      "|   |   |   |   |--- feature_10 <= 1.00\n",
      "|   |   |   |   |   |--- class: get_drink\n",
      "|   |   |   |   |--- feature_10 >  1.00\n",
      "|   |   |   |   |   |--- class: prepare_Breakfast\n",
      "|   |--- feature_7 >  0.50\n",
      "|   |   |--- class: leave_house\n",
      "|--- feature_2 >  0.50\n",
      "|   |--- feature_0 <= 2.00\n",
      "|   |   |--- class: prepare_Breakfast\n",
      "|   |--- feature_0 >  2.00\n",
      "|   |   |--- class: leave_house\n",
      "\n",
      "Accuracy: 0.8951612903225806\n"
     ]
    }
   ],
   "source": [
    "X_train, X_test, y_train, y_test = train_test_split(X.values, y, test_size=0.3, random_state=1) # 70% training and 30% test\n",
    "# Create Decision Tree classifer object\n",
    "clf = DecisionTreeClassifier()\n",
    "\n",
    "# Train Decision Tree Classifer\n",
    "clf = clf.fit(X_train,y_train)\n",
    "# print(clf.feature_names_in_)\n",
    "print(clf.classes_)\n",
    "# print_decision_rules(clf,features)\n",
    "rules = dict()\n",
    "create_rules_recursive(clf,features,0,'',rules)\n",
    "print(rules)\n",
    "print(export_text(clf))\n",
    "\n",
    "dump(clf, 'test.joblib') \n",
    "\n",
    "data = tree.export_graphviz(clf, out_file=None, feature_names=features, class_names = clf.classes_, filled=True)\n",
    "graph = pydotplus.graph_from_dot_data(data)\n",
    "graph.write_png('mydecisiontree_classifier_test.png')\n",
    "\n",
    "#Predict the response for test dataset\n",
    "y_pred = clf.predict(X_test)\n",
    "# Model Accuracy, how often is the classifier correct?\n",
    "print(\"Accuracy:\",metrics.accuracy_score(y_test, y_pred))\n",
    "\n",
    "# img=pltimg.imread('mydecisiontree.png')\n",
    "# imgplot = plt.imshow(img)\n",
    "# plt.show() \n"
   ]
  },
  {
   "cell_type": "code",
   "execution_count": 9,
   "metadata": {},
   "outputs": [
    {
     "name": "stdout",
     "output_type": "stream",
     "text": [
      "                   precision    recall  f1-score   support\n",
      "\n",
      "        get_drink       0.50      0.75      0.60         4\n",
      "        go_to_bed       0.00      0.00      0.00         3\n",
      "      leave_house       1.00      1.00      1.00        17\n",
      "prepare_Breakfast       0.97      0.81      0.88        36\n",
      "       use_toilet       0.90      0.97      0.93        64\n",
      "\n",
      "         accuracy                           0.90       124\n",
      "        macro avg       0.67      0.70      0.68       124\n",
      "     weighted avg       0.90      0.90      0.89       124\n",
      "\n"
     ]
    }
   ],
   "source": [
    "print(classification_report(y_test, y_pred))"
   ]
  },
  {
   "cell_type": "code",
   "execution_count": 10,
   "metadata": {},
   "outputs": [
    {
     "name": "stdout",
     "output_type": "stream",
     "text": [
      "Trying to predict the take shower activity, with ID 5, \n",
      "with the following combination 1,0,0,0,0,0,0,3,0,0,0,0,0,0\n",
      "Value predicted: ['leave_house']\n",
      "Wrong predicition\n"
     ]
    }
   ],
   "source": [
    "print(\"Trying to predict the take shower activity, with ID 5, \\nwith the following combination 1,0,0,0,0,0,0,3,0,0,0,0,0,0\")\n",
    "pred = clf.predict([[1,0,0,0,0,0,0,3,0,0,0,0,0,0]])\n",
    "print(\"Value predicted:\", pred)\n",
    "if(pred == 5): print(\"Correct prediction\") \n",
    "else: print(\"Wrong predicition\")"
   ]
  }
 ],
 "metadata": {
  "kernelspec": {
   "display_name": "Python 3.10.7 64-bit",
   "language": "python",
   "name": "python3"
  },
  "language_info": {
   "codemirror_mode": {
    "name": "ipython",
    "version": 3
   },
   "file_extension": ".py",
   "mimetype": "text/x-python",
   "name": "python",
   "nbconvert_exporter": "python",
   "pygments_lexer": "ipython3",
   "version": "3.10.7"
  },
  "orig_nbformat": 4,
  "vscode": {
   "interpreter": {
    "hash": "26de051ba29f2982a8de78e945f0abaf191376122a1563185a90213a26c5da77"
   }
  }
 },
 "nbformat": 4,
 "nbformat_minor": 2
}
