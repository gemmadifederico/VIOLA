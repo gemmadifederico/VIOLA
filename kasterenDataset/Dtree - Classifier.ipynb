{
 "cells": [
  {
   "cell_type": "code",
   "execution_count": 188,
   "metadata": {},
   "outputs": [],
   "source": [
    "import pandas as pd\n",
    "from sklearn import tree\n",
    "import pydotplus\n",
    "from sklearn.tree import DecisionTreeClassifier, export_text, _tree\n",
    "from sklearn.metrics import classification_report\n",
    "\n",
    "import seaborn as sns\n",
    "from imblearn.over_sampling import SMOTE\n",
    "\n",
    "from sklearn.model_selection import train_test_split\n",
    "import matplotlib.pyplot as plt\n",
    "import matplotlib.image as pltimg\n",
    "import numpy as np\n",
    "from sklearn import metrics\n",
    "from joblib import dump, load"
   ]
  },
  {
   "cell_type": "code",
   "execution_count": 189,
   "metadata": {},
   "outputs": [],
   "source": [
    "# Import the two datasets \n",
    "df = pd.read_csv(\"Log_labeled_train_trans.csv\", header = 0).fillna(0)"
   ]
  },
  {
   "cell_type": "code",
   "execution_count": 190,
   "metadata": {},
   "outputs": [
    {
     "name": "stdout",
     "output_type": "stream",
     "text": [
      "['Start time', 'End time', 'Frontdoor', 'Hall-Bedroom_door', 'Hall-Bathroom_door', 'ToiletFlush', 'Hall-Toilet_door', 'Plates_cupboard', 'Groceries_Cupboard', 'Fridge', 'Freezer', 'Cups_cupboard', 'Dishwasher', 'Microwave', 'Washingmachine', 'Pans_Cupboard', 'Label']\n"
     ]
    }
   ],
   "source": [
    "data_top = df.columns\n",
    "columns = list(data_top) \n",
    "print(columns)"
   ]
  },
  {
   "cell_type": "code",
   "execution_count": 191,
   "metadata": {},
   "outputs": [
    {
     "data": {
      "text/plain": [
       "['Frontdoor',\n",
       " 'Hall-Bedroom_door',\n",
       " 'Hall-Bathroom_door',\n",
       " 'ToiletFlush',\n",
       " 'Hall-Toilet_door',\n",
       " 'Plates_cupboard',\n",
       " 'Groceries_Cupboard',\n",
       " 'Fridge',\n",
       " 'Freezer',\n",
       " 'Cups_cupboard',\n",
       " 'Dishwasher',\n",
       " 'Microwave',\n",
       " 'Washingmachine',\n",
       " 'Pans_Cupboard']"
      ]
     },
     "execution_count": 191,
     "metadata": {},
     "output_type": "execute_result"
    }
   ],
   "source": [
    "features = columns\n",
    "features.remove(\"Label\")\n",
    "features.remove(\"Start time\")\n",
    "features.remove(\"End time\")\n",
    "features"
   ]
  },
  {
   "cell_type": "code",
   "execution_count": 192,
   "metadata": {},
   "outputs": [],
   "source": [
    "X = df[features]\n",
    "# y = df.Label_ID\n",
    "y = df.Label"
   ]
  },
  {
   "cell_type": "code",
   "execution_count": 193,
   "metadata": {},
   "outputs": [
    {
     "name": "stdout",
     "output_type": "stream",
     "text": [
      "Accuracy: 0.7769784172661871\n"
     ]
    }
   ],
   "source": [
    "X_train, X_test, y_train, y_test = train_test_split(X.values, y, test_size=0.3, random_state=1) # 70% training and 30% test\n",
    "# Create Decision Tree classifer object\n",
    "clf = DecisionTreeClassifier()\n",
    "\n",
    "# Train Decision Tree Classifer\n",
    "clf = clf.fit(X_train,y_train)\n",
    "\n",
    "#Predict the response for test dataset\n",
    "y_pred = clf.predict(X_test)\n",
    "# Model Accuracy, how often is the classifier correct?\n",
    "print(\"Accuracy:\",metrics.accuracy_score(y_test, y_pred))\n",
    "\n"
   ]
  },
  {
   "cell_type": "code",
   "execution_count": 194,
   "metadata": {},
   "outputs": [
    {
     "name": "stdout",
     "output_type": "stream",
     "text": [
      "                   precision    recall  f1-score   support\n",
      "\n",
      "        get_drink       1.00      0.44      0.62         9\n",
      "        go_to_bed       0.33      0.50      0.40         4\n",
      "      leave_house       0.64      0.80      0.71        20\n",
      "prepare_breakfast       0.67      0.36      0.47        11\n",
      "   prepare_dinner       0.59      0.59      0.59        22\n",
      "       use_toilet       0.91      0.95      0.93        73\n",
      "\n",
      "         accuracy                           0.78       139\n",
      "        macro avg       0.69      0.61      0.62       139\n",
      "     weighted avg       0.79      0.78      0.77       139\n",
      "\n"
     ]
    }
   ],
   "source": [
    "print(classification_report(y_test, y_pred))"
   ]
  },
  {
   "cell_type": "code",
   "execution_count": 195,
   "metadata": {},
   "outputs": [
    {
     "name": "stdout",
     "output_type": "stream",
     "text": [
      "Trying to predict the take shower activity, with ID 5, \n",
      "with the following combination 1,0,0,0,0,0,0,3,0,0,0,0,0,0\n",
      "Value predicted: ['leave_house']\n",
      "Wrong predicition\n"
     ]
    }
   ],
   "source": [
    "print(\"Trying to predict the take shower activity, with ID 5, \\nwith the following combination 1,0,0,0,0,0,0,3,0,0,0,0,0,0\")\n",
    "pred = clf.predict([[1,0,0,0,0,0,0,3,0,0,0,0,0,0]])\n",
    "print(\"Value predicted:\", pred)\n",
    "if(pred == 5): print(\"Correct prediction\") \n",
    "else: print(\"Wrong predicition\")"
   ]
  },
  {
   "cell_type": "code",
   "execution_count": 196,
   "metadata": {},
   "outputs": [
    {
     "data": {
      "text/plain": [
       "<AxesSubplot: xlabel='index', ylabel='Label'>"
      ]
     },
     "execution_count": 196,
     "metadata": {},
     "output_type": "execute_result"
    },
    {
     "data": {
      "image/png": "[encoded data removed]",
      "text/plain": [
       "<Figure size 640x480 with 1 Axes>"
      ]
     },
     "metadata": {},
     "output_type": "display_data"
    }
   ],
   "source": [
    "xx = df[[\"Label\"][0]].value_counts().reset_index()\n",
    "sns.barplot(x=\"index\", y=\"Label\", data= xx, palette=\"cividis\")"
   ]
  },
  {
   "cell_type": "code",
   "execution_count": 197,
   "metadata": {},
   "outputs": [
    {
     "name": "stdout",
     "output_type": "stream",
     "text": [
      "               index  Label\n",
      "0          go_to_bed    198\n",
      "1         use_toilet    198\n",
      "2  prepare_breakfast    198\n",
      "3        leave_house    198\n",
      "4     prepare_dinner    198\n",
      "5          get_drink    198\n"
     ]
    },
    {
     "data": {
      "text/plain": [
       "<AxesSubplot: xlabel='index', ylabel='Label'>"
      ]
     },
     "execution_count": 197,
     "metadata": {},
     "output_type": "execute_result"
    },
    {
     "data": {
      "image/png": "[encoded data removed]",
      "text/plain": [
       "<Figure size 640x480 with 1 Axes>"
      ]
     },
     "metadata": {},
     "output_type": "display_data"
    }
   ],
   "source": [
    "X = df[features]\n",
    "y = df.Label\n",
    "\n",
    "oversample = SMOTE()\n",
    "X, y = oversample.fit_resample(X, y)\n",
    "\n",
    "df = pd.concat([pd.DataFrame(X), pd.DataFrame(y)], axis=1)\n",
    "df.columns = features + [\"Label\"]\n",
    "xx = df[[\"Label\"][0]].value_counts().reset_index()\n",
    "print(xx)\n",
    "sns.barplot(x=\"index\", y=\"Label\", data= xx, palette=\"cividis\")"
   ]
  },
  {
   "cell_type": "code",
   "execution_count": 198,
   "metadata": {},
   "outputs": [
    {
     "name": "stdout",
     "output_type": "stream",
     "text": [
      "Accuracy: 0.834733893557423\n"
     ]
    }
   ],
   "source": [
    "X_train, X_test, y_train, y_test = train_test_split(X.values, y, test_size=0.3, random_state=1) # 70% training and 30% test\n",
    "# Create Decision Tree classifer object\n",
    "clf = DecisionTreeClassifier()\n",
    "\n",
    "# Train Decision Tree Classifer\n",
    "clf = clf.fit(X_train,y_train)\n",
    "\n",
    "dump(clf, 'test.joblib') \n",
    "\n",
    "data = tree.export_graphviz(clf, out_file=None, feature_names=features, class_names = clf.classes_, filled=True)\n",
    "graph = pydotplus.graph_from_dot_data(data)\n",
    "graph.write_png('Log_Dtree.png')\n",
    "\n",
    "#Predict the response for test dataset\n",
    "y_pred = clf.predict(X_test)\n",
    "# Model Accuracy, how often is the classifier correct?\n",
    "print(\"Accuracy:\",metrics.accuracy_score(y_test, y_pred))"
   ]
  },
  {
   "cell_type": "code",
   "execution_count": 199,
   "metadata": {},
   "outputs": [
    {
     "data": {
      "text/plain": [
       "Frontdoor                   0.0\n",
       "Hall-Bedroom_door           0.0\n",
       "Hall-Bathroom_door          0.0\n",
       "ToiletFlush                 0.0\n",
       "Hall-Toilet_door            1.0\n",
       "Plates_cupboard             0.0\n",
       "Groceries_Cupboard          0.0\n",
       "Fridge                      0.0\n",
       "Freezer                     0.0\n",
       "Cups_cupboard               0.0\n",
       "Dishwasher                  0.0\n",
       "Microwave                   0.0\n",
       "Washingmachine              0.0\n",
       "Pans_Cupboard               0.0\n",
       "Label                 go_to_bed\n",
       "Name: 56, dtype: object"
      ]
     },
     "execution_count": 199,
     "metadata": {},
     "output_type": "execute_result"
    }
   ],
   "source": [
    "df.iloc[56]"
   ]
  },
  {
   "cell_type": "code",
   "execution_count": 200,
   "metadata": {},
   "outputs": [
    {
     "name": "stdout",
     "output_type": "stream",
     "text": [
      "                   precision    recall  f1-score   support\n",
      "\n",
      "        get_drink       0.80      1.00      0.89        60\n",
      "        go_to_bed       0.94      0.83      0.88        60\n",
      "      leave_house       0.95      0.68      0.80        60\n",
      "prepare_breakfast       0.88      0.77      0.82        66\n",
      "   prepare_dinner       0.79      0.75      0.77        51\n",
      "       use_toilet       0.72      0.97      0.83        60\n",
      "\n",
      "         accuracy                           0.83       357\n",
      "        macro avg       0.85      0.83      0.83       357\n",
      "     weighted avg       0.85      0.83      0.83       357\n",
      "\n"
     ]
    }
   ],
   "source": [
    "print(classification_report(y_test, y_pred))"
   ]
  }
 ],
 "metadata": {
  "kernelspec": {
   "display_name": "Python 3.10.7 64-bit",
   "language": "python",
   "name": "python3"
  },
  "language_info": {
   "codemirror_mode": {
    "name": "ipython",
    "version": 3
   },
   "file_extension": ".py",
   "mimetype": "text/x-python",
   "name": "python",
   "nbconvert_exporter": "python",
   "pygments_lexer": "ipython3",
   "version": "3.10.7"
  },
  "orig_nbformat": 4,
  "vscode": {
   "interpreter": {
    "hash": "26de051ba29f2982a8de78e945f0abaf191376122a1563185a90213a26c5da77"
   }
  }
 },
 "nbformat": 4,
 "nbformat_minor": 2
}
