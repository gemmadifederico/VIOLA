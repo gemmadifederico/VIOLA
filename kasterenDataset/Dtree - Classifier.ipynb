{
 "cells": [
  {
   "cell_type": "code",
<<<<<<< HEAD
   "execution_count": 2,
=======
   "execution_count": 1,
>>>>>>> cafe8fb8bde03aa2245b5582da05a2a9b811d772
   "metadata": {},
   "outputs": [],
   "source": [
    "import pandas as pd\n",
    "from sklearn import tree\n",
    "import pydotplus\n",
    "from sklearn.tree import DecisionTreeClassifier, export_text, _tree\n",
    "from sklearn.metrics import classification_report\n",
    "\n",
    "\n",
    "from sklearn.model_selection import train_test_split\n",
    "import matplotlib.pyplot as plt\n",
    "import matplotlib.image as pltimg\n",
    "import numpy as np\n",
    "from sklearn import metrics\n",
    "from joblib import dump, load"
   ]
  },
  {
   "cell_type": "code",
<<<<<<< HEAD
   "execution_count": 3,
=======
   "execution_count": 2,
>>>>>>> cafe8fb8bde03aa2245b5582da05a2a9b811d772
   "metadata": {},
   "outputs": [],
   "source": [
    "# Import the two datasets \n",
    "\n",
    "df = pd.read_csv(\"log_labeled_trans.csv\", header = 0).fillna(0)\n",
    "df.columns = df.columns.str.replace(' ', '_')\n",
    "df['Label']=df['Label'].str.replace(' ', '_')"
   ]
  },
  {
   "cell_type": "code",
<<<<<<< HEAD
   "execution_count": 4,
=======
   "execution_count": 3,
>>>>>>> cafe8fb8bde03aa2245b5582da05a2a9b811d772
   "metadata": {},
   "outputs": [
    {
     "name": "stdout",
     "output_type": "stream",
     "text": [
      "['Start_time', 'End_time', 'Hall-Bedroom_door', 'Hall-Bathroom_door', 'ToiletFlush', 'Plates_cupboard', 'Fridge', 'Microwave', 'Groceries_Cupboard', 'Hall-Toilet_door', 'Frontdoor', 'Pans_Cupboard', 'Freezer', 'Cups_cupboard', 'Dishwasher', 'Washingmachine', 'Label', 'Label_ID', 'Activity_Size']\n"
     ]
    }
   ],
   "source": [
    "data_top = df.columns\n",
    "columns = list(data_top) \n",
    "print(columns)"
   ]
  },
  {
   "cell_type": "code",
<<<<<<< HEAD
   "execution_count": 5,
=======
   "execution_count": 4,
>>>>>>> cafe8fb8bde03aa2245b5582da05a2a9b811d772
   "metadata": {},
   "outputs": [
    {
     "data": {
      "text/plain": [
       "['Hall-Bedroom_door',\n",
       " 'Hall-Bathroom_door',\n",
       " 'ToiletFlush',\n",
       " 'Plates_cupboard',\n",
       " 'Fridge',\n",
       " 'Microwave',\n",
       " 'Groceries_Cupboard',\n",
       " 'Hall-Toilet_door',\n",
       " 'Frontdoor',\n",
       " 'Pans_Cupboard',\n",
       " 'Freezer',\n",
       " 'Cups_cupboard',\n",
       " 'Dishwasher',\n",
       " 'Washingmachine',\n",
       " 'Activity_Size']"
      ]
     },
     "execution_count": 4,
     "metadata": {},
     "output_type": "execute_result"
    }
   ],
   "source": [
    "features = columns\n",
    "features.remove(\"Label\")\n",
    "features.remove(\"Label_ID\")\n",
    "features.remove(\"Start_time\")\n",
    "features.remove(\"End_time\")\n",
    "features"
   ]
  },
  {
   "cell_type": "code",
<<<<<<< HEAD
   "execution_count": 6,
=======
   "execution_count": 5,
>>>>>>> cafe8fb8bde03aa2245b5582da05a2a9b811d772
   "metadata": {},
   "outputs": [],
   "source": [
    "X = df[features]\n",
    "# y = df.Label_ID\n",
    "y = df.Label"
   ]
  },
  {
   "cell_type": "code",
<<<<<<< HEAD
   "execution_count": 7,
=======
   "execution_count": 6,
>>>>>>> cafe8fb8bde03aa2245b5582da05a2a9b811d772
   "metadata": {},
   "outputs": [],
   "source": [
    "def create_rules_recursive(clf,features,node,expression,rules):\n",
    "    # intermediate node\n",
    "    if clf.tree_.feature[node] != _tree.TREE_UNDEFINED:\n",
    "        name = features[clf.tree_.feature[node]]\n",
    "        threshold = clf.tree_.threshold[node]\n",
    "        if expression != '':\n",
    "            expression = expression + ' AND '\n",
    "        create_rules_recursive(clf,features,clf.tree_.children_left[node],expression + str(name) + '<=' + str(threshold),rules)\n",
    "        create_rules_recursive(clf,features,clf.tree_.children_right[node],expression + str(name) + '>' + str(threshold),rules)\n",
    "    # leaf node\n",
    "    else:\n",
    "        key = clf.classes_[np.argmax(clf.tree_.value[node])]\n",
    "        if (key not in rules):\n",
    "            rules[key] = '(' + expression + ')'\n",
    "        else:\n",
    "            rules[key] = rules[key] + ' OR (' + expression + ')'"
   ]
  },
  {
   "cell_type": "code",
<<<<<<< HEAD
   "execution_count": 8,
=======
   "execution_count": 7,
>>>>>>> cafe8fb8bde03aa2245b5582da05a2a9b811d772
   "metadata": {},
   "outputs": [],
   "source": [
    "def print_decision_rules(rf,features):\n",
    "\n",
    "    tree = rf.tree_\n",
    "    assert tree.value.shape[1] == 1 # no support for multi-output\n",
    "    \n",
    "    iterator = enumerate(zip(tree.children_left, tree.children_right, tree.feature, tree.threshold, tree.value))\n",
    "    for node_idx, data in iterator:\n",
    "        left, right, feature, th, value = data\n",
    "\n",
    "        # left: index of left child (if any)\n",
    "        # right: index of right child (if any)\n",
    "        # feature: index of the feature to check\n",
    "        # th: the threshold to compare against\n",
    "        # value: values associated with classes            \n",
    "\n",
    "        # for classifier, value is 0 except the index of the class to return\n",
    "        class_idx = np.argmax(value[0])\n",
    "\n",
    "        if left == -1 and right == -1:\n",
    "            print('{} LEAF: return class={}'.format(node_idx, class_idx))\n",
    "        else:\n",
    "            print('{} NODE: if {} < {} then next={} else next={}'.format(node_idx, features[feature], th, left, right))    \n",
    "            print('{} NODE: if {} < {} then next={} else next={}'.format(node_idx, feature, th, left, right))    \n",
    "            \n",
    "\n"
   ]
  },
  {
   "cell_type": "code",
<<<<<<< HEAD
   "execution_count": 10,
   "metadata": {},
   "outputs": [
    {
     "name": "stdout",
     "output_type": "stream",
     "text": [
      "{'get_drink': '(Hall-Bathroom_door<=1.5 AND Frontdoor<=0.5 AND Plates_cupboard<=0.5 AND Hall-Bedroom_door<=0.5 AND ToiletFlush<=0.5 AND Hall-Toilet_door<=0.5)', 'take_shower': '(Hall-Bathroom_door<=1.5 AND Frontdoor<=0.5 AND Plates_cupboard<=0.5 AND Hall-Bedroom_door<=0.5 AND ToiletFlush<=0.5 AND Hall-Toilet_door>0.5) OR (Hall-Bathroom_door<=1.5 AND Frontdoor<=0.5 AND Plates_cupboard<=0.5 AND Hall-Bedroom_door<=0.5 AND ToiletFlush>0.5 AND Hall-Toilet_door<=2.5 AND Hall-Bathroom_door>0.5 AND Activity_Size<=5.0) OR (Hall-Bathroom_door<=1.5 AND Frontdoor<=0.5 AND Plates_cupboard<=0.5 AND Hall-Bedroom_door<=0.5 AND ToiletFlush>0.5 AND Hall-Toilet_door>2.5) OR (Hall-Bathroom_door>1.5 AND Hall-Toilet_door>2.5)', 'use_toilet': '(Hall-Bathroom_door<=1.5 AND Frontdoor<=0.5 AND Plates_cupboard<=0.5 AND Hall-Bedroom_door<=0.5 AND ToiletFlush>0.5 AND Hall-Toilet_door<=2.5 AND Hall-Bathroom_door<=0.5) OR (Hall-Bathroom_door<=1.5 AND Frontdoor<=0.5 AND Plates_cupboard<=0.5 AND Hall-Bedroom_door<=0.5 AND ToiletFlush>0.5 AND Hall-Toilet_door<=2.5 AND Hall-Bathroom_door>0.5 AND Activity_Size>5.0) OR (Hall-Bathroom_door>1.5 AND Hall-Toilet_door<=2.5 AND Hall-Bedroom_door<=0.5) OR (Hall-Bathroom_door>1.5 AND Hall-Toilet_door<=2.5 AND Hall-Bedroom_door>0.5 AND Activity_Size>3.5)', 'go_to_bed': '(Hall-Bathroom_door<=1.5 AND Frontdoor<=0.5 AND Plates_cupboard<=0.5 AND Hall-Bedroom_door>0.5) OR (Hall-Bathroom_door>1.5 AND Hall-Toilet_door<=2.5 AND Hall-Bedroom_door>0.5 AND Activity_Size<=3.5)', 'prepare_Breakfast': '(Hall-Bathroom_door<=1.5 AND Frontdoor<=0.5 AND Plates_cupboard>0.5)', 'leave_house': '(Hall-Bathroom_door<=1.5 AND Frontdoor>0.5)'}\n",
      "|--- feature_1 <= 1.50\n",
      "|   |--- feature_8 <= 0.50\n",
      "|   |   |--- feature_3 <= 0.50\n",
      "|   |   |   |--- feature_0 <= 0.50\n",
      "|   |   |   |   |--- feature_2 <= 0.50\n",
      "|   |   |   |   |   |--- feature_7 <= 0.50\n",
      "|   |   |   |   |   |   |--- class: get_drink\n",
      "|   |   |   |   |   |--- feature_7 >  0.50\n",
      "|   |   |   |   |   |   |--- class: take_shower\n",
      "|   |   |   |   |--- feature_2 >  0.50\n",
      "|   |   |   |   |   |--- feature_7 <= 2.50\n",
      "|   |   |   |   |   |   |--- feature_1 <= 0.50\n",
      "|   |   |   |   |   |   |   |--- class: use_toilet\n",
      "|   |   |   |   |   |   |--- feature_1 >  0.50\n",
      "|   |   |   |   |   |   |   |--- feature_14 <= 5.00\n",
      "|   |   |   |   |   |   |   |   |--- class: take_shower\n",
      "|   |   |   |   |   |   |   |--- feature_14 >  5.00\n",
      "|   |   |   |   |   |   |   |   |--- class: use_toilet\n",
      "|   |   |   |   |   |--- feature_7 >  2.50\n",
      "|   |   |   |   |   |   |--- class: take_shower\n",
      "|   |   |   |--- feature_0 >  0.50\n",
      "|   |   |   |   |--- class: go_to_bed\n",
      "|   |   |--- feature_3 >  0.50\n",
      "|   |   |   |--- class: prepare_Breakfast\n",
      "|   |--- feature_8 >  0.50\n",
      "|   |   |--- class: leave_house\n",
      "|--- feature_1 >  1.50\n",
      "|   |--- feature_7 <= 2.50\n",
      "|   |   |--- feature_0 <= 0.50\n",
      "|   |   |   |--- class: use_toilet\n",
      "|   |   |--- feature_0 >  0.50\n",
      "|   |   |   |--- feature_14 <= 3.50\n",
      "|   |   |   |   |--- class: go_to_bed\n",
      "|   |   |   |--- feature_14 >  3.50\n",
      "|   |   |   |   |--- class: use_toilet\n",
      "|   |--- feature_7 >  2.50\n",
      "|   |   |--- class: take_shower\n",
      "\n",
      "Accuracy: 0.9142857142857143\n"
=======
   "execution_count": 9,
   "metadata": {},
   "outputs": [
    {
     "ename": "AttributeError",
     "evalue": "'DecisionTreeClassifier' object has no attribute 'feature_names_in_'",
     "output_type": "error",
     "traceback": [
      "\u001b[1;31m---------------------------------------------------------------------------\u001b[0m",
      "\u001b[1;31mAttributeError\u001b[0m                            Traceback (most recent call last)",
      "Cell \u001b[1;32mIn [9], line 7\u001b[0m\n\u001b[0;32m      5\u001b[0m \u001b[39m# Train Decision Tree Classifer\u001b[39;00m\n\u001b[0;32m      6\u001b[0m clf \u001b[39m=\u001b[39m clf\u001b[39m.\u001b[39mfit(X_train,y_train)\n\u001b[1;32m----> 7\u001b[0m \u001b[39mprint\u001b[39m(clf\u001b[39m.\u001b[39;49mfeature_names_in_)\n\u001b[0;32m      8\u001b[0m \u001b[39mprint\u001b[39m(clf\u001b[39m.\u001b[39mclasses_)\n\u001b[0;32m      9\u001b[0m \u001b[39m# print_decision_rules(clf,features)\u001b[39;00m\n",
      "\u001b[1;31mAttributeError\u001b[0m: 'DecisionTreeClassifier' object has no attribute 'feature_names_in_'"
>>>>>>> cafe8fb8bde03aa2245b5582da05a2a9b811d772
     ]
    }
   ],
   "source": [
    "X_train, X_test, y_train, y_test = train_test_split(X.values, y, test_size=0.3, random_state=1) # 70% training and 30% test\n",
    "# Create Decision Tree classifer object\n",
    "clf = DecisionTreeClassifier()\n",
    "\n",
    "# Train Decision Tree Classifer\n",
    "clf = clf.fit(X_train,y_train)\n",
    "# print(clf.feature_names_in_)\n",
    "print(clf.classes_)\n",
    "# print_decision_rules(clf,features)\n",
    "rules = dict()\n",
    "create_rules_recursive(clf,features,0,'',rules)\n",
    "print(rules)\n",
    "print(export_text(clf))\n",
    "\n",
    "dump(clf, 'test.joblib') \n",
    "\n",
    "data = tree.export_graphviz(clf, out_file=None, feature_names=features)\n",
    "graph = pydotplus.graph_from_dot_data(data)\n",
    "graph.write_png('mydecisiontree_classifier_test.png')\n",
    "\n",
    "#Predict the response for test dataset\n",
    "y_pred = clf.predict(X_test)\n",
    "# Model Accuracy, how often is the classifier correct?\n",
    "print(\"Accuracy:\",metrics.accuracy_score(y_test, y_pred))\n",
    "\n",
    "# img=pltimg.imread('mydecisiontree.png')\n",
    "# imgplot = plt.imshow(img)\n",
    "# plt.show() \n"
   ]
  },
  {
   "cell_type": "code",
   "execution_count": null,
   "metadata": {},
   "outputs": [
    {
     "name": "stdout",
     "output_type": "stream",
     "text": [
      "                   precision    recall  f1-score   support\n",
      "\n",
      "        get_drink       0.50      0.50      0.50         2\n",
      "        go_to_bed       1.00      1.00      1.00         2\n",
      "      leave_house       1.00      0.88      0.93         8\n",
      "prepare_Breakfast       1.00      0.90      0.95        10\n",
      "      take_shower       0.75      1.00      0.86         6\n",
      "       use_toilet       1.00      1.00      1.00         7\n",
      "\n",
      "         accuracy                           0.91        35\n",
      "        macro avg       0.88      0.88      0.87        35\n",
      "     weighted avg       0.93      0.91      0.92        35\n",
      "\n"
     ]
    }
   ],
   "source": [
    "print(classification_report(y_test, y_pred))"
   ]
  },
  {
   "cell_type": "code",
   "execution_count": 17,
   "metadata": {},
   "outputs": [
    {
     "name": "stdout",
     "output_type": "stream",
     "text": [
      "Trying to predict the prepare_Breakfast activity, with ID 13, \n",
      "with the following combination 0,0,0,2,2,2,2,0,0,0,0,0,0,0,8\n",
      "Value predicted: ['prepare_Breakfast']\n",
      "Correct prediction\n"
     ]
    }
   ],
   "source": [
    "print(\"Trying to predict the prepare_Breakfast activity, with ID 13, \\nwith the following combination 0,0,0,2,2,2,2,0,0,0,0,0,0,0,8\")\n",
    "pred = clf.predict([[0,0,0,2,2,2,2,0,0,0,0,0,0,0,8]])\n",
    "print(\"Value predicted:\", pred)\n",
    "if(pred == \"prepare_Breakfast\"): print(\"Correct prediction\") \n",
    "else: print(\"Wrong predicition\")"
   ]
  }
 ],
 "metadata": {
  "kernelspec": {
   "display_name": "Python 3.10.7 64-bit",
   "language": "python",
   "name": "python3"
  },
  "language_info": {
   "codemirror_mode": {
    "name": "ipython",
    "version": 3
   },
   "file_extension": ".py",
   "mimetype": "text/x-python",
   "name": "python",
   "nbconvert_exporter": "python",
   "pygments_lexer": "ipython3",
   "version": "3.10.7"
  },
  "orig_nbformat": 4,
  "vscode": {
   "interpreter": {
    "hash": "26de051ba29f2982a8de78e945f0abaf191376122a1563185a90213a26c5da77"
   }
  }
 },
 "nbformat": 4,
 "nbformat_minor": 2
}
