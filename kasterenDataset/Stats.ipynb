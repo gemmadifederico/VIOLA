{
 "cells": [
  {
   "cell_type": "code",
   "execution_count": 1,
   "metadata": {},
   "outputs": [],
   "source": [
    "import pandas as pd\n",
    "import statistics\n"
   ]
  },
  {
   "cell_type": "code",
   "execution_count": 2,
   "metadata": {},
   "outputs": [
    {
     "data": {
      "text/html": [
       "<div>\n",
       "<style scoped>\n",
       "    .dataframe tbody tr th:only-of-type {\n",
       "        vertical-align: middle;\n",
       "    }\n",
       "\n",
       "    .dataframe tbody tr th {\n",
       "        vertical-align: top;\n",
       "    }\n",
       "\n",
       "    .dataframe thead th {\n",
       "        text-align: right;\n",
       "    }\n",
       "</style>\n",
       "<table border=\"1\" class=\"dataframe\">\n",
       "  <thead>\n",
       "    <tr style=\"text-align: right;\">\n",
       "      <th></th>\n",
       "      <th>Start time</th>\n",
       "      <th>End time</th>\n",
       "      <th>ID</th>\n",
       "    </tr>\n",
       "  </thead>\n",
       "  <tbody>\n",
       "    <tr>\n",
       "      <th>0</th>\n",
       "      <td>2008-02-25 00:22:00</td>\n",
       "      <td>2008-02-25 09:34:00</td>\n",
       "      <td>10</td>\n",
       "    </tr>\n",
       "    <tr>\n",
       "      <th>1</th>\n",
       "      <td>2008-02-25 09:37:00</td>\n",
       "      <td>2008-02-25 09:38:00</td>\n",
       "      <td>4</td>\n",
       "    </tr>\n",
       "    <tr>\n",
       "      <th>2</th>\n",
       "      <td>2008-02-25 09:49:00</td>\n",
       "      <td>2008-02-25 09:53:00</td>\n",
       "      <td>13</td>\n",
       "    </tr>\n",
       "    <tr>\n",
       "      <th>3</th>\n",
       "      <td>2008-02-25 10:02:00</td>\n",
       "      <td>2008-02-25 10:12:00</td>\n",
       "      <td>5</td>\n",
       "    </tr>\n",
       "    <tr>\n",
       "      <th>4</th>\n",
       "      <td>2008-02-25 10:19:00</td>\n",
       "      <td>2008-02-25 16:55:00</td>\n",
       "      <td>1</td>\n",
       "    </tr>\n",
       "    <tr>\n",
       "      <th>...</th>\n",
       "      <td>...</td>\n",
       "      <td>...</td>\n",
       "      <td>...</td>\n",
       "    </tr>\n",
       "    <tr>\n",
       "      <th>240</th>\n",
       "      <td>2008-03-21 09:42:00</td>\n",
       "      <td>2008-03-21 15:51:00</td>\n",
       "      <td>1</td>\n",
       "    </tr>\n",
       "    <tr>\n",
       "      <th>241</th>\n",
       "      <td>2008-03-21 15:51:00</td>\n",
       "      <td>2008-03-21 15:53:00</td>\n",
       "      <td>4</td>\n",
       "    </tr>\n",
       "    <tr>\n",
       "      <th>242</th>\n",
       "      <td>2008-03-21 17:03:00</td>\n",
       "      <td>2008-03-21 18:05:00</td>\n",
       "      <td>10</td>\n",
       "    </tr>\n",
       "    <tr>\n",
       "      <th>243</th>\n",
       "      <td>2008-03-21 18:24:00</td>\n",
       "      <td>2008-03-21 18:25:00</td>\n",
       "      <td>4</td>\n",
       "    </tr>\n",
       "    <tr>\n",
       "      <th>244</th>\n",
       "      <td>2008-03-21 19:10:00</td>\n",
       "      <td>2008-03-23 19:04:00</td>\n",
       "      <td>1</td>\n",
       "    </tr>\n",
       "  </tbody>\n",
       "</table>\n",
       "<p>245 rows × 3 columns</p>\n",
       "</div>"
      ],
      "text/plain": [
       "             Start time            End time  ID\n",
       "0   2008-02-25 00:22:00 2008-02-25 09:34:00  10\n",
       "1   2008-02-25 09:37:00 2008-02-25 09:38:00   4\n",
       "2   2008-02-25 09:49:00 2008-02-25 09:53:00  13\n",
       "3   2008-02-25 10:02:00 2008-02-25 10:12:00   5\n",
       "4   2008-02-25 10:19:00 2008-02-25 16:55:00   1\n",
       "..                  ...                 ...  ..\n",
       "240 2008-03-21 09:42:00 2008-03-21 15:51:00   1\n",
       "241 2008-03-21 15:51:00 2008-03-21 15:53:00   4\n",
       "242 2008-03-21 17:03:00 2008-03-21 18:05:00  10\n",
       "243 2008-03-21 18:24:00 2008-03-21 18:25:00   4\n",
       "244 2008-03-21 19:10:00 2008-03-23 19:04:00   1\n",
       "\n",
       "[245 rows x 3 columns]"
      ]
     },
     "execution_count": 2,
     "metadata": {},
     "output_type": "execute_result"
    }
   ],
   "source": [
    "actData = pd.read_csv(\"kasterenActData.csv\", header = 0)\n",
    "actData['Start time'] = pd.to_datetime(actData['Start time'], format='%d/%m/%Y %H:%M')\n",
    "actData['End time'] = pd.to_datetime(actData['End time'], format='%d/%m/%Y %H:%M')\n",
    "actData"
   ]
  },
  {
   "cell_type": "code",
   "execution_count": 3,
   "metadata": {},
   "outputs": [],
   "source": [
    "\n",
    "for index, row in actData.iterrows():\n",
    "    duration = row[\"End time\"] - row[\"Start time\"]\n",
    "    duration_in_s = duration.total_seconds()\n",
    "    actData.at[index, \"Duration\"] = duration_in_s\n",
    "\n"
   ]
  },
  {
   "cell_type": "code",
   "execution_count": 4,
   "metadata": {},
   "outputs": [
    {
     "data": {
      "text/plain": [
       "ID\n",
       "1     39820.588235\n",
       "4       106.842105\n",
       "5       571.304348\n",
       "10    29150.000000\n",
       "13      207.000000\n",
       "15     2052.000000\n",
       "17       45.000000\n",
       "Name: Duration, dtype: float64"
      ]
     },
     "execution_count": 4,
     "metadata": {},
     "output_type": "execute_result"
    }
   ],
   "source": [
    "# Mean in seconds for each activity\n",
    "actDataG = actData.groupby(\"ID\")[\"Duration\"].mean()\n",
    "actDataG\n",
    "    "
   ]
  },
  {
   "cell_type": "code",
   "execution_count": 8,
   "metadata": {},
   "outputs": [],
   "source": [
    "senseData = pd.read_csv(\"log_labeled.csv\", header = 0)"
   ]
  },
  {
   "cell_type": "code",
   "execution_count": 10,
   "metadata": {},
   "outputs": [
    {
     "name": "stdout",
     "output_type": "stream",
     "text": [
      "1  Mean:  2.652173913043478  Max:  31  Min:  1\n",
      "4  Mean:  3.775  Max:  7  Min:  1\n",
      "5  Mean:  2.9523809523809526  Max:  7  Min:  1\n",
      "10  Mean:  2.142857142857143  Max:  4  Min:  1\n",
      "13  Mean:  6.7  Max:  12  Min:  3\n",
      "17  Mean:  3.3333333333333335  Max:  5  Min:  2\n"
     ]
    }
   ],
   "source": [
    "# senseDataG = senseData.groupby([\"Case_ID\", \"Activity_ID\"])\n",
    "senseDataG = senseData.groupby(\"Activity_ID\")\n",
    "\n",
    "dd = {\n",
    "1: 'leave house',\n",
    "4: 'use toilet',\n",
    "5: 'take shower',\n",
    "10:'go to bed',\n",
    "13:'prepare Breakfast',\n",
    "15:'prepare Dinner',\n",
    "17:'get drink'}\n",
    "\n",
    "dd = {\n",
    "1: [] ,\n",
    "4: [] ,\n",
    "5: [] ,\n",
    "10:[] ,\n",
    "13:[] ,\n",
    "17:[] }\n",
    "\n",
    "i = 0\n",
    "for index, group in senseDataG:\n",
    "    dd.get(group.iloc[0][\"Label_ID\"]).append(len(group))\n",
    "    if(len(group)==91):\n",
    "        print(index, group)\n",
    "\n",
    "for label, freq in dd.items():\n",
    "    print(label, \" Mean: \", statistics.mean(freq), \" Max: \", max(freq), \" Min: \", min(freq))\n",
    "    \n",
    "    \n"
   ]
  }
 ],
 "metadata": {
  "kernelspec": {
   "display_name": "Python 3.10.4 64-bit",
   "language": "python",
   "name": "python3"
  },
  "language_info": {
   "codemirror_mode": {
    "name": "ipython",
    "version": 3
   },
   "file_extension": ".py",
   "mimetype": "text/x-python",
   "name": "python",
   "nbconvert_exporter": "python",
   "pygments_lexer": "ipython3",
   "version": "3.10.4"
  },
  "orig_nbformat": 4,
  "vscode": {
   "interpreter": {
    "hash": "1b5acb681577528e2aff85da35659397b1a3d39ac070b6fb3442068ab6131df9"
   }
  }
 },
 "nbformat": 4,
 "nbformat_minor": 2
}
