{
 "cells": [
  {
   "cell_type": "code",
   "execution_count": 1,
   "metadata": {},
   "outputs": [],
   "source": [
    "import pandas as pd\n",
    "import statistics\n"
   ]
  },
  {
   "cell_type": "code",
   "execution_count": 2,
   "metadata": {},
   "outputs": [
    {
     "data": {
      "text/html": [
       "<div>\n",
       "<style scoped>\n",
       "    .dataframe tbody tr th:only-of-type {\n",
       "        vertical-align: middle;\n",
       "    }\n",
       "\n",
       "    .dataframe tbody tr th {\n",
       "        vertical-align: top;\n",
       "    }\n",
       "\n",
       "    .dataframe thead th {\n",
       "        text-align: right;\n",
       "    }\n",
       "</style>\n",
       "<table border=\"1\" class=\"dataframe\">\n",
       "  <thead>\n",
       "    <tr style=\"text-align: right;\">\n",
       "      <th></th>\n",
       "      <th>Start time</th>\n",
       "      <th>End time</th>\n",
       "      <th>ID</th>\n",
       "    </tr>\n",
       "  </thead>\n",
       "  <tbody>\n",
       "    <tr>\n",
       "      <th>0</th>\n",
       "      <td>2008-02-25 00:22:00</td>\n",
       "      <td>2008-02-25 09:34:00</td>\n",
       "      <td>10</td>\n",
       "    </tr>\n",
       "    <tr>\n",
       "      <th>1</th>\n",
       "      <td>2008-02-25 09:37:00</td>\n",
       "      <td>2008-02-25 09:38:00</td>\n",
       "      <td>4</td>\n",
       "    </tr>\n",
       "    <tr>\n",
       "      <th>2</th>\n",
       "      <td>2008-02-25 09:49:00</td>\n",
       "      <td>2008-02-25 09:53:00</td>\n",
       "      <td>13</td>\n",
       "    </tr>\n",
       "    <tr>\n",
       "      <th>3</th>\n",
       "      <td>2008-02-25 10:02:00</td>\n",
       "      <td>2008-02-25 10:12:00</td>\n",
       "      <td>5</td>\n",
       "    </tr>\n",
       "    <tr>\n",
       "      <th>4</th>\n",
       "      <td>2008-02-25 10:19:00</td>\n",
       "      <td>2008-02-25 16:55:00</td>\n",
       "      <td>1</td>\n",
       "    </tr>\n",
       "    <tr>\n",
       "      <th>...</th>\n",
       "      <td>...</td>\n",
       "      <td>...</td>\n",
       "      <td>...</td>\n",
       "    </tr>\n",
       "    <tr>\n",
       "      <th>240</th>\n",
       "      <td>2008-03-21 09:42:00</td>\n",
       "      <td>2008-03-21 15:51:00</td>\n",
       "      <td>1</td>\n",
       "    </tr>\n",
       "    <tr>\n",
       "      <th>241</th>\n",
       "      <td>2008-03-21 15:51:00</td>\n",
       "      <td>2008-03-21 15:53:00</td>\n",
       "      <td>4</td>\n",
       "    </tr>\n",
       "    <tr>\n",
       "      <th>242</th>\n",
       "      <td>2008-03-21 17:03:00</td>\n",
       "      <td>2008-03-21 18:05:00</td>\n",
       "      <td>10</td>\n",
       "    </tr>\n",
       "    <tr>\n",
       "      <th>243</th>\n",
       "      <td>2008-03-21 18:24:00</td>\n",
       "      <td>2008-03-21 18:25:00</td>\n",
       "      <td>4</td>\n",
       "    </tr>\n",
       "    <tr>\n",
       "      <th>244</th>\n",
       "      <td>2008-03-21 19:10:00</td>\n",
       "      <td>2008-03-23 19:04:00</td>\n",
       "      <td>1</td>\n",
       "    </tr>\n",
       "  </tbody>\n",
       "</table>\n",
       "<p>245 rows × 3 columns</p>\n",
       "</div>"
      ],
      "text/plain": [
       "             Start time            End time  ID\n",
       "0   2008-02-25 00:22:00 2008-02-25 09:34:00  10\n",
       "1   2008-02-25 09:37:00 2008-02-25 09:38:00   4\n",
       "2   2008-02-25 09:49:00 2008-02-25 09:53:00  13\n",
       "3   2008-02-25 10:02:00 2008-02-25 10:12:00   5\n",
       "4   2008-02-25 10:19:00 2008-02-25 16:55:00   1\n",
       "..                  ...                 ...  ..\n",
       "240 2008-03-21 09:42:00 2008-03-21 15:51:00   1\n",
       "241 2008-03-21 15:51:00 2008-03-21 15:53:00   4\n",
       "242 2008-03-21 17:03:00 2008-03-21 18:05:00  10\n",
       "243 2008-03-21 18:24:00 2008-03-21 18:25:00   4\n",
       "244 2008-03-21 19:10:00 2008-03-23 19:04:00   1\n",
       "\n",
       "[245 rows x 3 columns]"
      ]
     },
     "execution_count": 2,
     "metadata": {},
     "output_type": "execute_result"
    }
   ],
   "source": [
    "actData = pd.read_csv(\"kasterenActData.csv\", header = 0)\n",
    "actData['Start time'] = pd.to_datetime(actData['Start time'], format='%d/%m/%Y %H:%M')\n",
    "actData['End time'] = pd.to_datetime(actData['End time'], format='%d/%m/%Y %H:%M')\n",
    "actData"
   ]
  },
  {
   "cell_type": "code",
   "execution_count": 3,
   "metadata": {},
   "outputs": [],
   "source": [
    "\n",
    "for index, row in actData.iterrows():\n",
    "    duration = row[\"End time\"] - row[\"Start time\"]\n",
    "    duration_in_s = duration.total_seconds()\n",
    "    actData.at[index, \"Duration\"] = duration_in_s\n",
    "\n"
   ]
  },
  {
   "cell_type": "code",
   "execution_count": 4,
   "metadata": {},
   "outputs": [
    {
     "data": {
      "text/plain": [
       "ID\n",
       "1     39820.588235\n",
       "4       106.842105\n",
       "5       571.304348\n",
       "10    29150.000000\n",
       "13      207.000000\n",
       "15     2052.000000\n",
       "17       45.000000\n",
       "Name: Duration, dtype: float64"
      ]
     },
     "execution_count": 4,
     "metadata": {},
     "output_type": "execute_result"
    }
   ],
   "source": [
    "# Mean in seconds for each activity\n",
    "actDataG = actData.groupby(\"ID\")[\"Duration\"].mean()\n",
    "actDataG\n",
    "    "
   ]
  },
  {
   "cell_type": "code",
   "execution_count": 5,
   "metadata": {},
   "outputs": [],
   "source": [
    "senseData = pd.read_csv(\"log_labeled.csv\", header = 0)"
   ]
  },
  {
   "cell_type": "code",
   "execution_count": 7,
   "metadata": {},
   "outputs": [
    {
     "ename": "KeyError",
     "evalue": "'Activity_ID'",
     "output_type": "error",
     "traceback": [
      "\u001b[1;31m---------------------------------------------------------------------------\u001b[0m",
      "\u001b[1;31mKeyError\u001b[0m                                  Traceback (most recent call last)",
      "Cell \u001b[1;32mIn [7], line 2\u001b[0m\n\u001b[0;32m      1\u001b[0m \u001b[39m# senseDataG = senseData.groupby([\"Case_ID\", \"Activity_ID\"])\u001b[39;00m\n\u001b[1;32m----> 2\u001b[0m senseDataG \u001b[39m=\u001b[39m senseData\u001b[39m.\u001b[39mgroupby(\u001b[39m\"\u001b[39m\u001b[39mActivity_ID\u001b[39m\u001b[39m\"\u001b[39m)\n\u001b[0;32m      4\u001b[0m dd \u001b[39m=\u001b[39m {\n\u001b[0;32m      5\u001b[0m \u001b[39m1\u001b[39m: \u001b[39m'\u001b[39m\u001b[39mleave house\u001b[39m\u001b[39m'\u001b[39m,\n\u001b[0;32m      6\u001b[0m \u001b[39m4\u001b[39m: \u001b[39m'\u001b[39m\u001b[39muse toilet\u001b[39m\u001b[39m'\u001b[39m,\n\u001b[1;32m   (...)\u001b[0m\n\u001b[0;32m     10\u001b[0m \u001b[39m15\u001b[39m:\u001b[39m'\u001b[39m\u001b[39mprepare Dinner\u001b[39m\u001b[39m'\u001b[39m,\n\u001b[0;32m     11\u001b[0m \u001b[39m17\u001b[39m:\u001b[39m'\u001b[39m\u001b[39mget drink\u001b[39m\u001b[39m'\u001b[39m}\n\u001b[0;32m     13\u001b[0m dd \u001b[39m=\u001b[39m {\n\u001b[0;32m     14\u001b[0m \u001b[39m1\u001b[39m: [] ,\n\u001b[0;32m     15\u001b[0m \u001b[39m4\u001b[39m: [] ,\n\u001b[1;32m   (...)\u001b[0m\n\u001b[0;32m     19\u001b[0m \u001b[39m15\u001b[39m:[] ,\n\u001b[0;32m     20\u001b[0m \u001b[39m17\u001b[39m:[] }\n",
      "File \u001b[1;32m~\\AppData\\Roaming\\Python\\Python310\\site-packages\\pandas\\core\\frame.py:8392\u001b[0m, in \u001b[0;36mDataFrame.groupby\u001b[1;34m(self, by, axis, level, as_index, sort, group_keys, squeeze, observed, dropna)\u001b[0m\n\u001b[0;32m   8389\u001b[0m     \u001b[39mraise\u001b[39;00m \u001b[39mTypeError\u001b[39;00m(\u001b[39m\"\u001b[39m\u001b[39mYou have to supply one of \u001b[39m\u001b[39m'\u001b[39m\u001b[39mby\u001b[39m\u001b[39m'\u001b[39m\u001b[39m and \u001b[39m\u001b[39m'\u001b[39m\u001b[39mlevel\u001b[39m\u001b[39m'\u001b[39m\u001b[39m\"\u001b[39m)\n\u001b[0;32m   8390\u001b[0m axis \u001b[39m=\u001b[39m \u001b[39mself\u001b[39m\u001b[39m.\u001b[39m_get_axis_number(axis)\n\u001b[1;32m-> 8392\u001b[0m \u001b[39mreturn\u001b[39;00m DataFrameGroupBy(\n\u001b[0;32m   8393\u001b[0m     obj\u001b[39m=\u001b[39;49m\u001b[39mself\u001b[39;49m,\n\u001b[0;32m   8394\u001b[0m     keys\u001b[39m=\u001b[39;49mby,\n\u001b[0;32m   8395\u001b[0m     axis\u001b[39m=\u001b[39;49maxis,\n\u001b[0;32m   8396\u001b[0m     level\u001b[39m=\u001b[39;49mlevel,\n\u001b[0;32m   8397\u001b[0m     as_index\u001b[39m=\u001b[39;49mas_index,\n\u001b[0;32m   8398\u001b[0m     sort\u001b[39m=\u001b[39;49msort,\n\u001b[0;32m   8399\u001b[0m     group_keys\u001b[39m=\u001b[39;49mgroup_keys,\n\u001b[0;32m   8400\u001b[0m     squeeze\u001b[39m=\u001b[39;49msqueeze,\n\u001b[0;32m   8401\u001b[0m     observed\u001b[39m=\u001b[39;49mobserved,\n\u001b[0;32m   8402\u001b[0m     dropna\u001b[39m=\u001b[39;49mdropna,\n\u001b[0;32m   8403\u001b[0m )\n",
      "File \u001b[1;32m~\\AppData\\Roaming\\Python\\Python310\\site-packages\\pandas\\core\\groupby\\groupby.py:959\u001b[0m, in \u001b[0;36mGroupBy.__init__\u001b[1;34m(self, obj, keys, axis, level, grouper, exclusions, selection, as_index, sort, group_keys, squeeze, observed, mutated, dropna)\u001b[0m\n\u001b[0;32m    956\u001b[0m \u001b[39mif\u001b[39;00m grouper \u001b[39mis\u001b[39;00m \u001b[39mNone\u001b[39;00m:\n\u001b[0;32m    957\u001b[0m     \u001b[39mfrom\u001b[39;00m \u001b[39mpandas\u001b[39;00m\u001b[39m.\u001b[39;00m\u001b[39mcore\u001b[39;00m\u001b[39m.\u001b[39;00m\u001b[39mgroupby\u001b[39;00m\u001b[39m.\u001b[39;00m\u001b[39mgrouper\u001b[39;00m \u001b[39mimport\u001b[39;00m get_grouper\n\u001b[1;32m--> 959\u001b[0m     grouper, exclusions, obj \u001b[39m=\u001b[39m get_grouper(\n\u001b[0;32m    960\u001b[0m         obj,\n\u001b[0;32m    961\u001b[0m         keys,\n\u001b[0;32m    962\u001b[0m         axis\u001b[39m=\u001b[39;49maxis,\n\u001b[0;32m    963\u001b[0m         level\u001b[39m=\u001b[39;49mlevel,\n\u001b[0;32m    964\u001b[0m         sort\u001b[39m=\u001b[39;49msort,\n\u001b[0;32m    965\u001b[0m         observed\u001b[39m=\u001b[39;49mobserved,\n\u001b[0;32m    966\u001b[0m         mutated\u001b[39m=\u001b[39;49m\u001b[39mself\u001b[39;49m\u001b[39m.\u001b[39;49mmutated,\n\u001b[0;32m    967\u001b[0m         dropna\u001b[39m=\u001b[39;49m\u001b[39mself\u001b[39;49m\u001b[39m.\u001b[39;49mdropna,\n\u001b[0;32m    968\u001b[0m     )\n\u001b[0;32m    970\u001b[0m \u001b[39mself\u001b[39m\u001b[39m.\u001b[39mobj \u001b[39m=\u001b[39m obj\n\u001b[0;32m    971\u001b[0m \u001b[39mself\u001b[39m\u001b[39m.\u001b[39maxis \u001b[39m=\u001b[39m obj\u001b[39m.\u001b[39m_get_axis_number(axis)\n",
      "File \u001b[1;32m~\\AppData\\Roaming\\Python\\Python310\\site-packages\\pandas\\core\\groupby\\grouper.py:889\u001b[0m, in \u001b[0;36mget_grouper\u001b[1;34m(obj, key, axis, level, sort, observed, mutated, validate, dropna)\u001b[0m\n\u001b[0;32m    887\u001b[0m         in_axis, level, gpr \u001b[39m=\u001b[39m \u001b[39mFalse\u001b[39;00m, gpr, \u001b[39mNone\u001b[39;00m\n\u001b[0;32m    888\u001b[0m     \u001b[39melse\u001b[39;00m:\n\u001b[1;32m--> 889\u001b[0m         \u001b[39mraise\u001b[39;00m \u001b[39mKeyError\u001b[39;00m(gpr)\n\u001b[0;32m    890\u001b[0m \u001b[39melif\u001b[39;00m \u001b[39misinstance\u001b[39m(gpr, Grouper) \u001b[39mand\u001b[39;00m gpr\u001b[39m.\u001b[39mkey \u001b[39mis\u001b[39;00m \u001b[39mnot\u001b[39;00m \u001b[39mNone\u001b[39;00m:\n\u001b[0;32m    891\u001b[0m     \u001b[39m# Add key to exclusions\u001b[39;00m\n\u001b[0;32m    892\u001b[0m     exclusions\u001b[39m.\u001b[39madd(gpr\u001b[39m.\u001b[39mkey)\n",
      "\u001b[1;31mKeyError\u001b[0m: 'Activity_ID'"
     ]
    }
   ],
   "source": [
    "# senseDataG = senseData.groupby([\"Case_ID\", \"Activity_ID\"])\n",
    "senseDataG = senseData.groupby(\"Activity_ID\")\n",
    "\n",
    "dd = {\n",
    "1: 'leave house',\n",
    "4: 'use toilet',\n",
    "5: 'take shower',\n",
    "10:'go to bed',\n",
    "13:'prepare Breakfast',\n",
    "15:'prepare Dinner',\n",
    "17:'get drink'}\n",
    "\n",
    "dd = {\n",
    "1: [] ,\n",
    "4: [] ,\n",
    "5: [] ,\n",
    "10:[] ,\n",
    "13:[] ,\n",
    "15:[] ,\n",
    "17:[] }\n",
    "\n",
    "i = 0\n",
    "for index, group in senseDataG:\n",
    "    dd.get(group.iloc[0][\"Label_ID\"]).append(len(group))\n",
    "    if(len(group)==91):\n",
    "        print(index, group)\n",
    "\n",
    "for label, freq in dd.items():\n",
    "    print(label, \" Mean: \", statistics.mean(freq), \" Max: \", max(freq), \" Min: \", min(freq))\n",
    "    \n",
    "    \n"
   ]
  }
 ],
 "metadata": {
  "kernelspec": {
   "display_name": "Python 3.10.7 64-bit",
   "language": "python",
   "name": "python3"
  },
  "language_info": {
   "codemirror_mode": {
    "name": "ipython",
    "version": 3
   },
   "file_extension": ".py",
   "mimetype": "text/x-python",
   "name": "python",
   "nbconvert_exporter": "python",
   "pygments_lexer": "ipython3",
   "version": "3.10.7"
  },
  "orig_nbformat": 4,
  "vscode": {
   "interpreter": {
    "hash": "26de051ba29f2982a8de78e945f0abaf191376122a1563185a90213a26c5da77"
   }
  }
 },
 "nbformat": 4,
 "nbformat_minor": 2
}
