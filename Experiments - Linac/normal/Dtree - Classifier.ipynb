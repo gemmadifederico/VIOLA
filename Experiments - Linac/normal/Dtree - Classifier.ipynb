{
 "cells": [
  {
   "cell_type": "code",
   "execution_count": 1,
   "metadata": {},
   "outputs": [],
   "source": [
    "import pandas as pd\n",
    "from sklearn import tree\n",
    "import pydotplus\n",
    "from sklearn.tree import DecisionTreeClassifier, export_text, _tree\n",
    "from sklearn.metrics import classification_report\n",
    "\n",
    "\n",
    "from sklearn.model_selection import train_test_split\n",
    "import matplotlib.pyplot as plt\n",
    "import matplotlib.image as pltimg\n",
    "import numpy as np\n",
    "from sklearn import metrics\n",
    "from joblib import dump, load"
   ]
  },
  {
   "cell_type": "code",
   "execution_count": 2,
   "metadata": {},
   "outputs": [],
   "source": [
    "# Import\n",
    "df = pd.read_csv(\"Ltrain_labeled_trans.csv\", header = 0).fillna(0)"
   ]
  },
  {
   "cell_type": "code",
   "execution_count": 3,
   "metadata": {},
   "outputs": [
    {
     "name": "stdout",
     "output_type": "stream",
     "text": [
      "['Timestamp', 'door_A', 'sens1_A', 'sens3_A', 'sens4_A', 'door_B', 'sens4_B', 'sens2_B', 'sens1_B', 'sens3_B', 'door_C', 'sense1_C', 'sens3_C', 'sens2_C', 'sens4_C', 'sens4_D', 'sens3_D', 'sens2_D', 'sens1_D', 'sens2_A', 'door_D', 'Label']\n"
     ]
    }
   ],
   "source": [
    "data_top = df.columns\n",
    "columns = list(data_top) \n",
    "print(columns)"
   ]
  },
  {
   "cell_type": "code",
   "execution_count": 4,
   "metadata": {},
   "outputs": [
    {
     "data": {
      "text/plain": [
       "['door_A',\n",
       " 'sens1_A',\n",
       " 'sens3_A',\n",
       " 'sens4_A',\n",
       " 'door_B',\n",
       " 'sens4_B',\n",
       " 'sens2_B',\n",
       " 'sens1_B',\n",
       " 'sens3_B',\n",
       " 'door_C',\n",
       " 'sense1_C',\n",
       " 'sens3_C',\n",
       " 'sens2_C',\n",
       " 'sens4_C',\n",
       " 'sens4_D',\n",
       " 'sens3_D',\n",
       " 'sens2_D',\n",
       " 'sens1_D',\n",
       " 'sens2_A',\n",
       " 'door_D']"
      ]
     },
     "execution_count": 4,
     "metadata": {},
     "output_type": "execute_result"
    }
   ],
   "source": [
    "features = columns\n",
    "features.remove(\"Timestamp\")\n",
    "features.remove(\"Label\")\n",
    "features"
   ]
  },
  {
   "cell_type": "code",
   "execution_count": 5,
   "metadata": {},
   "outputs": [],
   "source": [
    "X = df[features]\n",
    "# y = df.Label_ID\n",
    "y = df.Label"
   ]
  },
  {
   "cell_type": "code",
   "execution_count": 6,
   "metadata": {},
   "outputs": [],
   "source": [
    "def create_rules_recursive(clf,features,node,expression,rules):\n",
    "    # intermediate node\n",
    "    if clf.tree_.feature[node] != _tree.TREE_UNDEFINED:\n",
    "        name = features[clf.tree_.feature[node]]\n",
    "        threshold = clf.tree_.threshold[node]\n",
    "        if expression != '':\n",
    "            expression = expression + ' AND '\n",
    "        create_rules_recursive(clf,features,clf.tree_.children_left[node],expression + str(name) + '<=' + str(threshold),rules)\n",
    "        create_rules_recursive(clf,features,clf.tree_.children_right[node],expression + str(name) + '>' + str(threshold),rules)\n",
    "    # leaf node\n",
    "    else:\n",
    "        key = clf.classes_[np.argmax(clf.tree_.value[node])]\n",
    "        if (key not in rules):\n",
    "            rules[key] = '(' + expression + ')'\n",
    "        else:\n",
    "            rules[key] = rules[key] + ' OR (' + expression + ')'"
   ]
  },
  {
   "cell_type": "code",
   "execution_count": 7,
   "metadata": {},
   "outputs": [],
   "source": [
    "def print_decision_rules(rf,features):\n",
    "\n",
    "    tree = rf.tree_\n",
    "    assert tree.value.shape[1] == 1 # no support for multi-output\n",
    "    \n",
    "    iterator = enumerate(zip(tree.children_left, tree.children_right, tree.feature, tree.threshold, tree.value))\n",
    "    for node_idx, data in iterator:\n",
    "        left, right, feature, th, value = data\n",
    "\n",
    "        # left: index of left child (if any)\n",
    "        # right: index of right child (if any)\n",
    "        # feature: index of the feature to check\n",
    "        # th: the threshold to compare against\n",
    "        # value: values associated with classes            \n",
    "\n",
    "        # for classifier, value is 0 except the index of the class to return\n",
    "        class_idx = np.argmax(value[0])\n",
    "\n",
    "        if left == -1 and right == -1:\n",
    "            print('{} LEAF: return class={}'.format(node_idx, class_idx))\n",
    "        else:\n",
    "            print('{} NODE: if {} < {} then next={} else next={}'.format(node_idx, features[feature], th, left, right))    \n",
    "            print('{} NODE: if {} < {} then next={} else next={}'.format(node_idx, feature, th, left, right))    \n",
    "            \n",
    "\n"
   ]
  },
  {
   "cell_type": "code",
   "execution_count": 8,
   "metadata": {},
   "outputs": [
    {
     "name": "stdout",
     "output_type": "stream",
     "text": [
      "['A' 'B' 'C' 'D']\n",
      "{'D': '(door_C<=0.5 AND door_A<=0.5 AND sens1_B<=0.5 AND door_B<=0.5)', 'B': '(door_C<=0.5 AND door_A<=0.5 AND sens1_B<=0.5 AND door_B>0.5) OR (door_C<=0.5 AND door_A<=0.5 AND sens1_B>0.5)', 'A': '(door_C<=0.5 AND door_A>0.5)', 'C': '(door_C>0.5)'}\n",
      "|--- feature_9 <= 0.50\n",
      "|   |--- feature_0 <= 0.50\n",
      "|   |   |--- feature_7 <= 0.50\n",
      "|   |   |   |--- feature_4 <= 0.50\n",
      "|   |   |   |   |--- class: D\n",
      "|   |   |   |--- feature_4 >  0.50\n",
      "|   |   |   |   |--- class: B\n",
      "|   |   |--- feature_7 >  0.50\n",
      "|   |   |   |--- class: B\n",
      "|   |--- feature_0 >  0.50\n",
      "|   |   |--- class: A\n",
      "|--- feature_9 >  0.50\n",
      "|   |--- class: C\n",
      "\n",
      "Accuracy: 1.0\n"
     ]
    }
   ],
   "source": [
    "X_train, X_test, y_train, y_test = train_test_split(X.values, y, test_size=0.3, random_state=1) # 70% training and 30% test\n",
    "# Create Decision Tree classifer object\n",
    "clf = DecisionTreeClassifier()\n",
    "\n",
    "# Train Decision Tree Classifer\n",
    "clf = clf.fit(X_train,y_train)\n",
    "# print(clf.feature_names_in_)\n",
    "print(clf.classes_)\n",
    "# print_decision_rules(clf,features)\n",
    "rules = dict()\n",
    "create_rules_recursive(clf,features,0,'',rules)\n",
    "print(rules)\n",
    "print(export_text(clf))\n",
    "\n",
    "data = tree.export_graphviz(clf, out_file=None, feature_names=features, class_names = clf.classes_, filled=True)\n",
    "graph = pydotplus.graph_from_dot_data(data)\n",
    "graph.write_png('Ltrain_dtree.png')\n",
    "\n",
    "#Predict the response for test dataset\n",
    "y_pred = clf.predict(X_test)\n",
    "# Model Accuracy, how often is the classifier correct?\n",
    "print(\"Accuracy:\",metrics.accuracy_score(y_test, y_pred))\n",
    "\n",
    "# img=pltimg.imread('mydecisiontree.png')\n",
    "# imgplot = plt.imshow(img)\n",
    "# plt.show() \n"
   ]
  },
  {
   "cell_type": "code",
   "execution_count": 9,
   "metadata": {},
   "outputs": [
    {
     "name": "stdout",
     "output_type": "stream",
     "text": [
      "              precision    recall  f1-score   support\n",
      "\n",
      "           A       1.00      1.00      1.00        37\n",
      "           B       1.00      1.00      1.00        49\n",
      "           C       1.00      1.00      1.00        51\n",
      "           D       1.00      1.00      1.00        31\n",
      "\n",
      "    accuracy                           1.00       168\n",
      "   macro avg       1.00      1.00      1.00       168\n",
      "weighted avg       1.00      1.00      1.00       168\n",
      "\n"
     ]
    }
   ],
   "source": [
    "print(classification_report(y_test, y_pred))"
   ]
  },
  {
   "cell_type": "code",
   "execution_count": 10,
   "metadata": {},
   "outputs": [
    {
     "name": "stdout",
     "output_type": "stream",
     "text": [
      "Trying to predict the activity A, \n",
      "with the following combination 1,6,2,6,0,0,0,0,0,0,0,0,0,0,0,0,0,0,0,0\n",
      "Value predicted: ['A']\n",
      "Correct prediction\n"
     ]
    }
   ],
   "source": [
    "print(\"Trying to predict the activity A, \\nwith the following combination 1,6,2,6,0,0,0,0,0,0,0,0,0,0,0,0,0,0,0,0\")\n",
    "pred = clf.predict([[1,6,2,6,0,0,0,0,0,0,0,0,0,0,0,0,0,0,0,0]])\n",
    "print(\"Value predicted:\", pred)\n",
    "if(pred == \"A\"): print(\"Correct prediction\") \n",
    "else: print(\"Wrong predicition\")"
   ]
  }
 ],
 "metadata": {
  "kernelspec": {
   "display_name": "Python 3.10.7 64-bit",
   "language": "python",
   "name": "python3"
  },
  "language_info": {
   "codemirror_mode": {
    "name": "ipython",
    "version": 3
   },
   "file_extension": ".py",
   "mimetype": "text/x-python",
   "name": "python",
   "nbconvert_exporter": "python",
   "pygments_lexer": "ipython3",
   "version": "3.10.7"
  },
  "orig_nbformat": 4,
  "vscode": {
   "interpreter": {
    "hash": "26de051ba29f2982a8de78e945f0abaf191376122a1563185a90213a26c5da77"
   }
  }
 },
 "nbformat": 4,
 "nbformat_minor": 2
}
