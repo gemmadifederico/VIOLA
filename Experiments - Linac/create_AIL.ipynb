{
 "cells": [
  {
   "cell_type": "code",
   "execution_count": 23,
   "id": "7e78af1d-f3bf-4eb0-af63-617a3c0cb490",
   "metadata": {},
   "outputs": [],
   "source": [
    "import random\n",
    "from datetime import datetime, date, timedelta\n",
    "import pandas as pd\n",
    "import itertools\n",
    "import json\n",
    "import numpy"
   ]
  },
  {
   "cell_type": "code",
   "execution_count": 24,
   "id": "1dcef32e-b72c-4221-8b97-665c8065b24b",
   "metadata": {},
   "outputs": [],
   "source": [
    "def getRandomTime(min_x, max_x, start_time):\n",
    "    start_time = datetime.strptime(start_time, \"%Y-%m-%d %H:%M:%S:%f\")\n",
    "    # min and max duration of the activity %H:%M:%S\n",
    "    min_duration = datetime.combine(date.min, datetime.strptime(min_x, \"%H:%M:%S:%f\").time())\n",
    "    max_duration = datetime.combine(date.min, datetime.strptime(max_x, \"%H:%M:%S:%f\").time()) \n",
    "    # get a ramdom millisec value between min and max duration\n",
    "    millisec = random.randint(0, int(((max_duration - min_duration).total_seconds())*1000))\n",
    "    # sum the start date and the calculated random value\n",
    "    min_x = datetime.strptime(min_x, '%H:%M:%S:%f')\n",
    "    b = timedelta(hours= min_x.hour, minutes = min_x.minute, seconds = min_x.second, milliseconds = min_x.microsecond)\n",
    "    random_duration = start_time + timedelta(milliseconds = millisec) + b\n",
    "    return (random_duration.strftime('%Y-%m-%d %H:%M:%S:%f'), millisec+int(b.total_seconds()*1000))    "
   ]
  },
  {
   "cell_type": "code",
   "execution_count": 25,
   "id": "0ad1aea6-0bd5-41a2-a6bb-ca8959a3a049",
   "metadata": {},
   "outputs": [],
   "source": [
    "def calculateDuration(df, start_time):\n",
    "    for index, row in df.iterrows():\n",
    "        if index != 0:\n",
    "            previous = df.loc[index -1, \"End_time\"]\n",
    "            a = getRandomTime(row[\"Min\"],row[\"Max\"], previous)\n",
    "            df.at[index, \"Start_time\"] = previous\n",
    "            df.at[index, \"End_time\"] = a[0]\n",
    "            df.at[index, \"Duration\"] = a[1]\n",
    "        else:\n",
    "            a = getRandomTime(row[\"Min\"],row[\"Max\"], start_time)\n",
    "            df.at[index, \"Start_time\"] = start_time\n",
    "            df.at[index, \"End_time\"] = a[0]\n",
    "            df.at[index, \"Duration\"] = a[1]\n",
    "    return(df)"
   ]
  },
  {
   "cell_type": "code",
   "execution_count": 26,
   "id": "775cca00-57c4-42b8-b13e-00ca01fd27f1",
   "metadata": {},
   "outputs": [],
   "source": [
    "def writeToFile(df, agent, name):\n",
    "    lines = []\n",
    "    data = {}\n",
    "    agenttxt = \"agent(\" + agent + \"){\"\n",
    "    lines.append(agenttxt)\n",
    "    #lines.append(start_time)\n",
    "    for index, row in df.iterrows():\n",
    "        txt = \"goto(\" + row[\"Activity\"] + \");\"\n",
    "        seconds = timedelta(milliseconds=row[\"Duration\"])\n",
    "        #to have milliseconds remove /100\n",
    "        txt2 = \"wait(\" + str(round((seconds.seconds))) + \");\"\n",
    "        lines.append(txt)\n",
    "        lines.append(txt2)\n",
    "    lines.append(\"}\")\n",
    "    str1 = \"\".join(lines)\n",
    "    data[\"input\"] = str1\n",
    "    with open(name, 'w') as f:\n",
    "        json.dump(data, f)\n",
    "    #with open(name, 'w') as f:\n",
    "    #    f.write('\\n'.join(lines))\n",
    "    #f.close()"
   ]
  },
  {
   "cell_type": "code",
   "execution_count": 27,
   "id": "60213b81",
   "metadata": {},
   "outputs": [],
   "source": [
    "def goto_A():\n",
    "    entities_A = [\"A1\", \"A2\", \"A3\", \"R1\"]\n",
    "    random.shuffle(entities_A)\n",
    "    for el in entities_A:\n",
    "        day.append([[el,'00:01:00:00','00:03:00:00']])\n",
    "def goto_B():\n",
    "    entities_B = [\"B1\", \"B2\", \"B3\", \"R2\"]\n",
    "    random.shuffle(entities_B)\n",
    "    for el in entities_B:\n",
    "        day.append([[el,'00:01:00:00','00:03:00:00']])\n",
    "def goto_C():\n",
    "    entities_C = [\"C1\", \"C2\", \"C3\", \"C4\", \"R3\"]\n",
    "    random.shuffle(entities_C)\n",
    "    for el in entities_C:\n",
    "        day.append([[el,'00:01:00:00','00:03:00:00']])\n",
    "def goto_D():\n",
    "    entities_D = [\"D1\", \"D2\", \"D3\"]\n",
    "    random.shuffle(entities_D)\n",
    "    for el in entities_D:\n",
    "        day.append([[el,'00:01:00:00','00:03:00:00']])"
   ]
  },
  {
   "cell_type": "code",
   "execution_count": 28,
   "id": "416dd883",
   "metadata": {},
   "outputs": [],
   "source": [
    "#compose a normal day\n",
    "def build_normal_day(): \n",
    "    goto_A()\n",
    "    goto_B()\n",
    "    goto_C()\n",
    "    goto_D()\n",
    "    final = list(itertools.chain.from_iterable(day))\n",
    "    dd = pd.DataFrame(final, columns=['Activity', 'Min', 'Max'])\n",
    "    header_list=[\"Activity\",\"Min\", \"Max\", \"Start_time\", \"End_time\", \"Duration\"]\n",
    "    dd = dd.reindex(columns = header_list) \n",
    "    dd = dd.fillna(\"\")\n",
    "    return(dd)"
   ]
  },
  {
   "cell_type": "code",
   "execution_count": 29,
   "id": "4932840f-6727-4479-812f-e71d569e83dd",
   "metadata": {
    "tags": []
   },
   "outputs": [],
   "source": [
    "#compose a day\n",
    "def build_shuffle_day(): \n",
    "    sh = [goto_A, goto_B, goto_C, goto_D]\n",
    "    random.shuffle(sh)\n",
    "    sh = random.sample(sh, k=random.randint(1, 4))\n",
    "    for func in sh:\n",
    "        func()\n",
    "    final = list(itertools.chain.from_iterable(day))\n",
    "    dd = pd.DataFrame(final, columns=['Activity', 'Min', 'Max'])\n",
    "    header_list=[\"Activity\",\"Min\", \"Max\", \"Start_time\", \"End_time\", \"Duration\"]\n",
    "    dd = dd.reindex(columns = header_list) \n",
    "    dd = dd.fillna(\"\")\n",
    "    return(dd)"
   ]
  },
  {
   "cell_type": "code",
   "execution_count": 30,
   "id": "02ae2c7f-e88b-41f9-a3e4-332254f74ce3",
   "metadata": {},
   "outputs": [],
   "source": [
    "agent = \"Agent1\"\n",
    "start_time = datetime(2022, 1, 1, 8, 20, 0, 0).strftime('%Y-%m-%d %H:%M:%S:%f')\n",
    "\n",
    "for var in range(10):\n",
    "    day = []\n",
    "    # print(\"Day\", var)\n",
    "    activityList = build_normal_day()\n",
    "    # print(activityList)\n",
    "    # print(\".........\")\n",
    "    final = calculateDuration(activityList, start_time)\n",
    "    name = \"normal/input_normal_\" + str(var) +\".json\"\n",
    "    writeToFile(final, agent, name)\n",
    "\n",
    "    day = []\n",
    "    activityList = build_shuffle_day()\n",
    "    final2 = calculateDuration(activityList, start_time)\n",
    "    name = \"shuffle/input_shuffle_\" + str(var) +\".json\"\n",
    "    writeToFile(final2, agent, name)"
   ]
  }
 ],
 "metadata": {
  "kernelspec": {
   "display_name": "Python 3.10.7 64-bit",
   "language": "python",
   "name": "python3"
  },
  "language_info": {
   "codemirror_mode": {
    "name": "ipython",
    "version": 3
   },
   "file_extension": ".py",
   "mimetype": "text/x-python",
   "name": "python",
   "nbconvert_exporter": "python",
   "pygments_lexer": "ipython3",
   "version": "3.10.7"
  },
  "vscode": {
   "interpreter": {
    "hash": "26de051ba29f2982a8de78e945f0abaf191376122a1563185a90213a26c5da77"
   }
  }
 },
 "nbformat": 4,
 "nbformat_minor": 5
}
